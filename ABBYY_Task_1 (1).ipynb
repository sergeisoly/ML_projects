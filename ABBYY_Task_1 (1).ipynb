{
 "cells": [
  {
   "cell_type": "markdown",
   "metadata": {},
   "source": [
    "# Решение на 1.0 на test accuracy. Это не лучшее решение, надо еще перебрать некоторые гиперпараметры, т.к. было показано, что до применения алгоритма максимального паросочетания возможно улучшить validation accuracy существенно - с 92 до 95."
   ]
  },
  {
   "cell_type": "code",
   "execution_count": 1,
   "metadata": {},
   "outputs": [],
   "source": [
    "import re\n",
    "import os\n",
    "import gc\n",
    "import pickle\n",
    "import itertools"
   ]
  },
  {
   "cell_type": "code",
   "execution_count": 2,
   "metadata": {},
   "outputs": [
    {
     "ename": "ModuleNotFoundError",
     "evalue": "No module named 'pymorphy2'",
     "output_type": "error",
     "traceback": [
      "\u001b[0;31m---------------------------------------------------------------------------\u001b[0m",
      "\u001b[0;31mModuleNotFoundError\u001b[0m                       Traceback (most recent call last)",
      "\u001b[0;32m<ipython-input-2-6c89ec09cb55>\u001b[0m in \u001b[0;36m<module>\u001b[0;34m\u001b[0m\n\u001b[1;32m     14\u001b[0m \u001b[0;32mfrom\u001b[0m \u001b[0mtqdm\u001b[0m \u001b[0;32mimport\u001b[0m \u001b[0mtqdm\u001b[0m\u001b[0;34m\u001b[0m\u001b[0;34m\u001b[0m\u001b[0m\n\u001b[1;32m     15\u001b[0m \u001b[0;34m\u001b[0m\u001b[0m\n\u001b[0;32m---> 16\u001b[0;31m \u001b[0;32mimport\u001b[0m \u001b[0mpymorphy2\u001b[0m\u001b[0;34m\u001b[0m\u001b[0;34m\u001b[0m\u001b[0m\n\u001b[0m\u001b[1;32m     17\u001b[0m \u001b[0mmorph\u001b[0m \u001b[0;34m=\u001b[0m \u001b[0mpymorphy2\u001b[0m\u001b[0;34m.\u001b[0m\u001b[0mMorphAnalyzer\u001b[0m\u001b[0;34m(\u001b[0m\u001b[0;34m)\u001b[0m\u001b[0;34m\u001b[0m\u001b[0;34m\u001b[0m\u001b[0m\n",
      "\u001b[0;31mModuleNotFoundError\u001b[0m: No module named 'pymorphy2'"
     ]
    }
   ],
   "source": [
    "import numpy as np\n",
    "import pandas as pd\n",
    "import matplotlib.pyplot as plt\n",
    "\n",
    "from sklearn import metrics\n",
    "from sklearn import preprocessing\n",
    "from sklearn import decomposition\n",
    "\n",
    "from sklearn.model_selection import train_test_split\n",
    "from sklearn.linear_model import LogisticRegression\n",
    "from sklearn.feature_extraction.text import TfidfVectorizer\n",
    "from sklearn.metrics import precision_recall_fscore_support, accuracy_score\n",
    "\n",
    "from tqdm import tqdm\n",
    "\n",
    "import pymorphy2\n",
    "morph = pymorphy2.MorphAnalyzer()"
   ]
  },
  {
   "cell_type": "markdown",
   "metadata": {},
   "source": [
    "# Важная информация: иногда при обучении той или иной штуки могут происходить странные вещи, не относящиеся к нашему коду. Иногда может вылетать KeyError, иногда падает kernel..."
   ]
  },
  {
   "cell_type": "markdown",
   "metadata": {},
   "source": [
    "### Чистка текста:\n",
    "#### 1) Оставить только буквы\n",
    "#### 2) Слова длинее одного символа\n",
    "#### 3) Выкинуть стоп-слова\n",
    "#### 4) Лемматизация (приведение к начальной форме)"
   ]
  },
  {
   "cell_type": "code",
   "execution_count": 3,
   "metadata": {},
   "outputs": [],
   "source": [
    "stop_words = [\"а\",\"е\",\"и\",\"ж\",\"м\",\"о\",\"на\",\"не\",\"ни\",\"об\",\"но\",\"он\",\"мне\",\"мои\",\"мож\",\"она\",\"они\",\"оно\",\"мной\",\"много\",\"многочисленное\",\"многочисленная\",\"многочисленные\",\"многочисленный\",\"мною\",\"мой\",\"мог\",\"могут\",\"можно\",\"может\",\"можхо\",\"мор\",\"моя\",\"моё\",\"мочь\",\"над\",\"нее\",\"оба\",\"нам\",\"нем\",\"нами\",\"ними\",\"мимо\",\"немного\",\"одной\",\"одного\",\"менее\",\"однажды\",\"однако\",\"меня\",\"нему\",\"меньше\",\"ней\",\"наверху\",\"него\",\"ниже\",\"мало\",\"надо\",\"один\",\"одиннадцать\",\"одиннадцатый\",\"назад\",\"наиболее\",\"недавно\",\"миллионов\",\"недалеко\",\"между\",\"низко\",\"меля\",\"нельзя\",\"нибудь\",\"непрерывно\",\"наконец\",\"никогда\",\"никуда\",\"нас\",\"наш\",\"нет\",\"нею\",\"неё\",\"них\",\"мира\",\"наша\",\"наше\",\"наши\",\"ничего\",\"начала\",\"нередко\",\"несколько\",\"обычно\",\"опять\",\"около\",\"мы\",\"ну\",\"нх\",\"от\",\"отовсюду\",\"особенно\",\"нужно\",\"очень\",\"отсюда\",\"в\",\"во\",\"вон\",\"вниз\",\"внизу\",\"вокруг\",\"вот\",\"восемнадцать\",\"восемнадцатый\",\"восемь\",\"восьмой\",\"вверх\",\"вам\",\"вами\",\"важное\",\"важная\",\"важные\",\"важный\",\"вдали\",\"везде\",\"ведь\",\"вас\",\"ваш\",\"ваша\",\"ваше\",\"ваши\",\"впрочем\",\"весь\",\"вдруг\",\"вы\",\"все\",\"второй\",\"всем\",\"всеми\",\"времени\",\"время\",\"всему\",\"всего\",\"всегда\",\"всех\",\"всею\",\"всю\",\"вся\",\"всё\",\"всюду\",\"г\",\"год\",\"говорил\",\"говорит\",\"года\",\"году\",\"где\",\"да\",\"ее\",\"за\",\"из\",\"ли\",\"же\",\"им\",\"до\",\"по\",\"ими\",\"под\",\"иногда\",\"довольно\",\"именно\",\"долго\",\"позже\",\"более\",\"должно\",\"пожалуйста\",\"значит\",\"иметь\",\"больше\",\"пока\",\"ему\",\"имя\",\"пор\",\"пора\",\"потом\",\"потому\",\"после\",\"почему\",\"почти\",\"посреди\",\"ей\",\"два\",\"две\",\"двенадцать\",\"двенадцатый\",\"двадцать\",\"двадцатый\",\"двух\",\"его\",\"дел\",\"или\",\"без\",\"день\",\"занят\",\"занята\",\"занято\",\"заняты\",\"действительно\",\"давно\",\"девятнадцать\",\"девятнадцатый\",\"девять\",\"девятый\",\"даже\",\"алло\",\"жизнь\",\"далеко\",\"близко\",\"здесь\",\"дальше\",\"для\",\"лет\",\"зато\",\"даром\",\"первый\",\"перед\",\"затем\",\"зачем\",\"лишь\",\"десять\",\"десятый\",\"ею\",\"её\",\"их\",\"бы\",\"еще\",\"при\",\"был\",\"про\",\"процентов\",\"против\",\"просто\",\"бывает\",\"бывь\",\"если\",\"люди\",\"была\",\"были\",\"было\",\"будем\",\"будет\",\"будете\",\"будешь\",\"прекрасно\",\"буду\",\"будь\",\"будто\",\"будут\",\"ещё\",\"пятнадцать\",\"пятнадцатый\",\"друго\",\"другое\",\"другой\",\"другие\",\"другая\",\"других\",\"есть\",\"пять\",\"быть\",\"лучше\",\"пятый\",\"к\",\"ком\",\"конечно\",\"кому\",\"кого\",\"когда\",\"которой\",\"которого\",\"которая\",\"которые\",\"который\",\"которых\",\"кем\",\"каждое\",\"каждая\",\"каждые\",\"каждый\",\"кажется\",\"как\",\"какой\",\"какая\",\"кто\",\"кроме\",\"куда\",\"кругом\",\"с\",\"т\",\"у\",\"я\",\"та\",\"те\",\"уж\",\"со\",\"то\",\"том\",\"снова\",\"тому\",\"совсем\",\"того\",\"тогда\",\"тоже\",\"собой\",\"тобой\",\"собою\",\"тобою\",\"сначала\",\"только\",\"уметь\",\"тот\",\"тою\",\"хорошо\",\"хотеть\",\"хочешь\",\"хоть\",\"хотя\",\"свое\",\"свои\",\"твой\",\"своей\",\"своего\",\"своих\",\"свою\",\"твоя\",\"твоё\",\"раз\",\"уже\",\"сам\",\"там\",\"тем\",\"чем\",\"сама\",\"сами\",\"теми\",\"само\",\"рано\",\"самом\",\"самому\",\"самой\",\"самого\",\"семнадцать\",\"семнадцатый\",\"самим\",\"самими\",\"самих\",\"саму\",\"семь\",\"чему\",\"раньше\",\"сейчас\",\"чего\",\"сегодня\",\"себе\",\"тебе\",\"сеаой\",\"человек\",\"разве\",\"теперь\",\"себя\",\"тебя\",\"седьмой\",\"спасибо\",\"слишком\",\"так\",\"такое\",\"такой\",\"такие\",\"также\",\"такая\",\"сих\",\"тех\",\"чаще\",\"четвертый\",\"через\",\"часто\",\"шестой\",\"шестнадцать\",\"шестнадцатый\",\"шесть\",\"четыре\",\"четырнадцать\",\"четырнадцатый\",\"сколько\",\"сказал\",\"сказала\",\"сказать\",\"ту\",\"ты\",\"три\",\"эта\",\"эти\",\"что\",\"это\",\"чтоб\",\"этом\",\"этому\",\"этой\",\"этого\",\"чтобы\",\"этот\",\"стал\",\"туда\",\"этим\",\"этими\",\"рядом\",\"тринадцать\",\"тринадцатый\",\"этих\",\"третий\",\"тут\",\"эту\",\"суть\",\"чуть\",\"тысяч\"]\n",
    "letters = 'ёйцукенгшщзхъфывапролджэячсмитьбю qwertyuiopasdfghjklzxcvbnm'\n",
    "\n",
    "\n",
    "# функция отчистки одного инстанса текста\n",
    "def clean(string):\n",
    "    string = string.lower()\n",
    "    string = ''.join(c for c in string if c in letters)\n",
    "    spliced = string.split(' ')\n",
    "    string = ''.join((morph.parse(word)[0]).normal_form + ' ' for word in spliced if len(word) > 1 and not word in stop_words)\n",
    "    return string[:-1]"
   ]
  },
  {
   "cell_type": "markdown",
   "metadata": {
    "raw_mimetype": "text/latex"
   },
   "source": [
    "### Чистка текста:\n",
    "#### 1) Оставить только буквы\n",
    "#### 2) Слова длинее одного символа\n",
    "#### 3) Выкинуть стоп-слова\n",
    "#### 4) Лемматизация (приведение к начальной форме)"
   ]
  },
  {
   "cell_type": "markdown",
   "metadata": {},
   "source": [
    "# Чистка данных для обучения.\n",
    "### Чистка занимает минут 15."
   ]
  },
  {
   "cell_type": "code",
   "execution_count": 4,
   "metadata": {},
   "outputs": [
    {
     "name": "stdout",
     "output_type": "stream",
     "text": [
      "Train data size: 3485\n"
     ]
    },
    {
     "data": {
      "text/html": [
       "<div>\n",
       "<style>\n",
       "    .dataframe thead tr:only-child th {\n",
       "        text-align: right;\n",
       "    }\n",
       "\n",
       "    .dataframe thead th {\n",
       "        text-align: left;\n",
       "    }\n",
       "\n",
       "    .dataframe tbody tr th {\n",
       "        vertical-align: top;\n",
       "    }\n",
       "</style>\n",
       "<table border=\"1\" class=\"dataframe\">\n",
       "  <thead>\n",
       "    <tr style=\"text-align: right;\">\n",
       "      <th></th>\n",
       "      <th>author</th>\n",
       "      <th>text</th>\n",
       "    </tr>\n",
       "  </thead>\n",
       "  <tbody>\n",
       "    <tr>\n",
       "      <th>0</th>\n",
       "      <td>__label__34</td>\n",
       "      <td>[стр. 11 — 29 бумажной версии номера] Игорь Па...</td>\n",
       "    </tr>\n",
       "    <tr>\n",
       "      <th>1</th>\n",
       "      <td>__label__50</td>\n",
       "      <td>Мелочи жизни   Проплаченная культура Конец мин...</td>\n",
       "    </tr>\n",
       "    <tr>\n",
       "      <th>2</th>\n",
       "      <td>__label__6</td>\n",
       "      <td>Юношеское Между низшими и высшими не закончен ...</td>\n",
       "    </tr>\n",
       "    <tr>\n",
       "      <th>3</th>\n",
       "      <td>__label__12</td>\n",
       "      <td>Свет, упавший из тишины…   — родился и живёт...</td>\n",
       "    </tr>\n",
       "    <tr>\n",
       "      <th>4</th>\n",
       "      <td>__label__58</td>\n",
       "      <td>ПОЛЕМИКА   * ЧЕРНОСОТЕНСТВО: ПРОШЛОЕ И ПЕРСПЕК...</td>\n",
       "    </tr>\n",
       "  </tbody>\n",
       "</table>\n",
       "</div>"
      ],
      "text/plain": [
       "        author                                               text\n",
       "0  __label__34  [стр. 11 — 29 бумажной версии номера] Игорь Па...\n",
       "1  __label__50  Мелочи жизни   Проплаченная культура Конец мин...\n",
       "2   __label__6  Юношеское Между низшими и высшими не закончен ...\n",
       "3  __label__12    Свет, упавший из тишины…   — родился и живёт...\n",
       "4  __label__58  ПОЛЕМИКА   * ЧЕРНОСОТЕНСТВО: ПРОШЛОЕ И ПЕРСПЕК..."
      ]
     },
     "execution_count": 4,
     "metadata": {},
     "output_type": "execute_result"
    }
   ],
   "source": [
    "df = pd.read_csv('Task_1/train/train.csv')\n",
    "N = len(df)\n",
    "print(\"Train data size: {}\".format(N))\n",
    "df.head()"
   ]
  },
  {
   "cell_type": "code",
   "execution_count": null,
   "metadata": {},
   "outputs": [],
   "source": [
    "for i in tqdm(range(N)):\n",
    "    df.iloc[i]['text'] = clean(df.iloc[i]['text'])\n",
    "\n",
    "df.to_csv('./Data/train_1_clean.csv', sep=';', encoding='utf-8')\n",
    "df.sample(frac=1, random_state=42).head()"
   ]
  },
  {
   "cell_type": "markdown",
   "metadata": {},
   "source": [
    "# Чистка данных для валидации.\n",
    "### Чистка занимает минут 5."
   ]
  },
  {
   "cell_type": "code",
   "execution_count": 5,
   "metadata": {},
   "outputs": [],
   "source": [
    "def create_clean_test_filename(i):\n",
    "    return \"./Data/test_1_clean/test_\" + str(i) + \"_clean.csv\""
   ]
  },
  {
   "cell_type": "code",
   "execution_count": null,
   "metadata": {},
   "outputs": [],
   "source": [
    "for i in tqdm(range(15, 20)):\n",
    "    df = pd.read_csv('./Data/valid_texts/text_' + str(i) + '.csv')\n",
    "    df[\"text\"] = df[\"text\"].apply(clean)\n",
    "    df.to_csv(create_clean_test_filename(i), sep=';', encoding='utf-8')"
   ]
  },
  {
   "cell_type": "markdown",
   "metadata": {},
   "source": [
    "# Непосредственно модель."
   ]
  },
  {
   "cell_type": "code",
   "execution_count": 6,
   "metadata": {},
   "outputs": [],
   "source": [
    "train_df = pd.read_csv(\"./Data/train_1_clean.csv\", sep=\";\")\n",
    "test_dfs = [pd.read_csv(create_clean_test_filename(i), sep=';', index_col=0) for i in range(15, 20)]\n",
    "\n",
    "y = [int(string[9:]) for string in train_df.author.values] # remove \"__label__\" from string and convert to int\n",
    "\n",
    "# делим на train и valid выборки\n",
    "xtrain, xvalid, ytrain, yvalid = train_test_split(train_df.text.values, y,\n",
    "                                                  stratify=train_df[\"author\"],\n",
    "                                                  random_state=42,\n",
    "                                                  test_size=0.1,\n",
    "                                                  shuffle=True)\n",
    "\n",
    "xtest = [test_df.text.values for test_df in test_dfs]"
   ]
  },
  {
   "cell_type": "markdown",
   "metadata": {},
   "source": [
    "### Векторизация TF-IDF\n",
    "# Минуты 3"
   ]
  },
  {
   "cell_type": "code",
   "execution_count": 7,
   "metadata": {},
   "outputs": [],
   "source": [
    "tfv = TfidfVectorizer(min_df=3, # по этому параметру хорошо бы сделать неплохой GridSearch\n",
    "                      analyzer='word',\n",
    "                      token_pattern=r'\\w{1,}',\n",
    "                      ngram_range=(1, 3), # тут тоже можно поиграться\n",
    "                      use_idf=1,\n",
    "                      smooth_idf=1,\n",
    "                      sublinear_tf=1)\n",
    "\n",
    "all_text_data = list(xtrain) + list(xvalid)\n",
    "for x in xtest:\n",
    "    all_text_data += list(x)\n",
    "\n",
    "tfv.fit(all_text_data)\n",
    "\n",
    "del all_text_data\n",
    "gc.collect();"
   ]
  },
  {
   "cell_type": "code",
   "execution_count": 8,
   "metadata": {},
   "outputs": [],
   "source": [
    "with open('model.pickle', 'wb') as pickle_file:\n",
    "    pickle.dump(tfv, pickle_file, protocol=pickle.HIGHEST_PROTOCOL)\n",
    "\n",
    "del tfv\n",
    "gc.collect();"
   ]
  },
  {
   "cell_type": "code",
   "execution_count": 9,
   "metadata": {},
   "outputs": [],
   "source": [
    "gc.collect();\n",
    "\n",
    "with open('model.pickle', 'rb') as pickle_file:\n",
    "    tfv = pickle.load(pickle_file)"
   ]
  },
  {
   "cell_type": "code",
   "execution_count": 10,
   "metadata": {},
   "outputs": [],
   "source": [
    "xtrain_tfv = tfv.transform(xtrain)\n",
    "xvalid_tfv = tfv.transform(xvalid)\n",
    "xtest_tfv = [tfv.transform(x) for x in xtest]"
   ]
  },
  {
   "cell_type": "code",
   "execution_count": 11,
   "metadata": {},
   "outputs": [],
   "source": [
    "del tfv\n",
    "gc.collect();"
   ]
  },
  {
   "cell_type": "markdown",
   "metadata": {},
   "source": [
    "### Обучение логистической регрессии "
   ]
  },
  {
   "cell_type": "code",
   "execution_count": 12,
   "metadata": {},
   "outputs": [
    {
     "data": {
      "text/plain": [
       "LogisticRegression(C=1000, class_weight=None, dual=False, fit_intercept=True,\n",
       "          intercept_scaling=1, max_iter=500, multi_class='auto',\n",
       "          n_jobs=None, penalty='l2', random_state=None, solver='liblinear',\n",
       "          tol=0.0001, verbose=0, warm_start=False)"
      ]
     },
     "execution_count": 12,
     "metadata": {},
     "output_type": "execute_result"
    }
   ],
   "source": [
    "log_regr = LogisticRegression(C=1000, max_iter=500, penalty='l2', solver='liblinear', multi_class='auto')\n",
    "log_regr.fit(xtrain_tfv, ytrain)"
   ]
  },
  {
   "cell_type": "code",
   "execution_count": 13,
   "metadata": {},
   "outputs": [
    {
     "name": "stdout",
     "output_type": "stream",
     "text": [
      "1.0 0.9283667621776505\n"
     ]
    }
   ],
   "source": [
    "y_pred_train = log_regr.predict(xtrain_tfv)\n",
    "y_pred_valid = log_regr.predict(xvalid_tfv)\n",
    "y_pred_test = [log_regr.predict(x) for x in xtest_tfv]\n",
    "\n",
    "train_accuracy = metrics.accuracy_score(ytrain, y_pred_train)\n",
    "valid_accuracy = metrics.accuracy_score(yvalid, y_pred_valid)\n",
    "\n",
    "print(train_accuracy, valid_accuracy)"
   ]
  },
  {
   "cell_type": "markdown",
   "metadata": {},
   "source": [
    "## Венгерский алгоритм\n",
    "### Позволяет найти минимальное по весу паросочетание среди максимальных по размеру\n",
    "### Используется для поиска биекции, максимизирующей вероятность правильности всех ответов"
   ]
  },
  {
   "cell_type": "code",
   "execution_count": 14,
   "metadata": {},
   "outputs": [],
   "source": [
    "def pos2nneg(a):\n",
    "    for i in range(len(a)):\n",
    "        for j in range(len(a[i])):\n",
    "            a[i][j] = inf if a[i][j]==0 else -np.log(a[i][j])\n",
    "    return a\n",
    "def hung(a1):\n",
    "    n, m = len(a1), len(a1[0])#60, 60\n",
    "    a = np.zeros((n+1,m+1))\n",
    "    for i in range(n):\n",
    "        for j in range(m):\n",
    "            a[i+1][j+1] = a1[i][j]\n",
    "    #print(a)\n",
    "    u = [0]*(n+1)\n",
    "    v = [0]*(m+1)\n",
    "    p = [0]*(m+1)\n",
    "    way = [0]*(m+1)\n",
    "    inf = np.inf\n",
    "    for i in range(1, n+1):\n",
    "        p[0] = i\n",
    "        j0 = 0\n",
    "        minv = [inf]*(m+1)\n",
    "        used = [False]*(m+1)\n",
    "        while True:\n",
    "            used[j0] = True\n",
    "            i0 = p[j0]\n",
    "            delta = inf\n",
    "            j1 = -1\n",
    "            for j in range(1, m+1):\n",
    "                if not used[j]:\n",
    "                    cur = a[i0][j]-u[i0]-v[j]\n",
    "                    if cur < minv[j]:\n",
    "                        minv[j] = cur\n",
    "                        way[j] = j0\n",
    "                    if minv[j] < delta:\n",
    "                        delta = minv[j]\n",
    "                        j1 = j\n",
    "            for j in range(m+1):\n",
    "                if used[j]:\n",
    "                    u[p[j]] += delta\n",
    "                    v[j] -= delta\n",
    "                else:\n",
    "                    minv[j] -= delta\n",
    "            j0 = j1\n",
    "            if p[j0] == 0:\n",
    "                break\n",
    "        while True:\n",
    "            j1 = way[j0]\n",
    "            p[j0] = p[j1]\n",
    "            j0 = j1\n",
    "            if j0 == 0:\n",
    "                break\n",
    "    ans = [-1]*(n)\n",
    "    for j in range(1,m+1):\n",
    "        ans[p[j]-1] = j-1\n",
    "    return ans"
   ]
  },
  {
   "cell_type": "markdown",
   "metadata": {},
   "source": [
    "## Финальное предсказание для валидации"
   ]
  },
  {
   "cell_type": "code",
   "execution_count": 15,
   "metadata": {
    "scrolled": true
   },
   "outputs": [
    {
     "name": "stdout",
     "output_type": "stream",
     "text": [
      "author\n",
      "__label__48\n",
      "__label__21\n",
      "__label__32\n",
      "__label__44\n",
      "__label__40\n",
      "__label__18\n",
      "__label__29\n",
      "__label__36\n",
      "__label__26\n",
      "__label__56\n",
      "__label__22\n",
      "__label__51\n",
      "__label__11\n",
      "__label__27\n",
      "__label__52\n",
      "__label__58\n",
      "__label__23\n",
      "__label__50\n",
      "__label__38\n",
      "__label__3\n",
      "__label__10\n",
      "__label__12\n",
      "__label__34\n",
      "__label__14\n",
      "__label__46\n",
      "__label__0\n",
      "__label__49\n",
      "__label__41\n",
      "__label__28\n",
      "__label__53\n",
      "__label__24\n",
      "__label__4\n",
      "__label__45\n",
      "__label__7\n",
      "__label__15\n",
      "__label__31\n",
      "__label__42\n",
      "__label__57\n",
      "__label__5\n",
      "__label__2\n",
      "__label__16\n",
      "__label__17\n",
      "__label__43\n",
      "__label__30\n",
      "__label__9\n",
      "__label__47\n",
      "__label__59\n",
      "__label__19\n",
      "__label__37\n",
      "__label__39\n",
      "__label__54\n",
      "__label__55\n",
      "__label__1\n",
      "__label__35\n",
      "__label__6\n",
      "__label__20\n",
      "__label__33\n",
      "__label__8\n",
      "__label__25\n",
      "__label__13\n",
      "author\n",
      "__label__44\n",
      "__label__19\n",
      "__label__57\n",
      "__label__38\n",
      "__label__30\n",
      "__label__4\n",
      "__label__12\n",
      "__label__58\n",
      "__label__51\n",
      "__label__13\n",
      "__label__8\n",
      "__label__47\n",
      "__label__5\n",
      "__label__41\n",
      "__label__24\n",
      "__label__29\n",
      "__label__6\n",
      "__label__49\n",
      "__label__23\n",
      "__label__2\n",
      "__label__53\n",
      "__label__21\n",
      "__label__16\n",
      "__label__22\n",
      "__label__55\n",
      "__label__0\n",
      "__label__11\n",
      "__label__27\n",
      "__label__42\n",
      "__label__7\n",
      "__label__46\n",
      "__label__56\n",
      "__label__43\n",
      "__label__10\n",
      "__label__48\n",
      "__label__40\n",
      "__label__1\n",
      "__label__50\n",
      "__label__25\n",
      "__label__59\n",
      "__label__52\n",
      "__label__28\n",
      "__label__36\n",
      "__label__3\n",
      "__label__33\n",
      "__label__45\n",
      "__label__34\n",
      "__label__31\n",
      "__label__35\n",
      "__label__14\n",
      "__label__26\n",
      "__label__37\n",
      "__label__9\n",
      "__label__39\n",
      "__label__32\n",
      "__label__54\n",
      "__label__15\n",
      "__label__17\n",
      "__label__18\n",
      "__label__20\n",
      "author\n",
      "__label__28\n",
      "__label__41\n",
      "__label__22\n",
      "__label__20\n",
      "__label__12\n",
      "__label__31\n",
      "__label__13\n",
      "__label__7\n",
      "__label__55\n",
      "__label__58\n",
      "__label__43\n",
      "__label__35\n",
      "__label__5\n",
      "__label__59\n",
      "__label__26\n",
      "__label__6\n",
      "__label__11\n",
      "__label__10\n",
      "__label__23\n",
      "__label__8\n",
      "__label__14\n",
      "__label__15\n",
      "__label__57\n",
      "__label__42\n",
      "__label__16\n",
      "__label__40\n",
      "__label__3\n",
      "__label__39\n",
      "__label__2\n",
      "__label__24\n",
      "__label__29\n",
      "__label__53\n",
      "__label__32\n",
      "__label__36\n",
      "__label__25\n",
      "__label__4\n",
      "__label__56\n",
      "__label__27\n",
      "__label__9\n",
      "__label__45\n",
      "__label__48\n",
      "__label__49\n",
      "__label__34\n",
      "__label__21\n",
      "__label__18\n",
      "__label__33\n",
      "__label__44\n",
      "__label__37\n",
      "__label__51\n",
      "__label__19\n",
      "__label__54\n",
      "__label__0\n",
      "__label__50\n",
      "__label__17\n",
      "__label__46\n",
      "__label__52\n",
      "__label__47\n",
      "__label__30\n",
      "__label__1\n",
      "__label__38\n",
      "author\n",
      "__label__58\n",
      "__label__20\n",
      "__label__23\n",
      "__label__57\n",
      "__label__44\n",
      "__label__12\n",
      "__label__28\n",
      "__label__9\n",
      "__label__53\n",
      "__label__0\n",
      "__label__13\n",
      "__label__19\n",
      "__label__10\n",
      "__label__34\n",
      "__label__46\n",
      "__label__24\n",
      "__label__29\n",
      "__label__43\n",
      "__label__14\n",
      "__label__33\n",
      "__label__17\n",
      "__label__42\n",
      "__label__41\n",
      "__label__59\n",
      "__label__39\n",
      "__label__56\n",
      "__label__16\n",
      "__label__8\n",
      "__label__55\n",
      "__label__54\n",
      "__label__35\n",
      "__label__4\n",
      "__label__50\n",
      "__label__47\n",
      "__label__48\n",
      "__label__27\n",
      "__label__30\n",
      "__label__52\n",
      "__label__6\n",
      "__label__40\n",
      "__label__26\n",
      "__label__5\n",
      "__label__21\n",
      "__label__2\n",
      "__label__1\n",
      "__label__18\n",
      "__label__3\n",
      "__label__38\n",
      "__label__51\n",
      "__label__15\n",
      "__label__11\n",
      "__label__31\n",
      "__label__22\n",
      "__label__36\n",
      "__label__49\n",
      "__label__45\n",
      "__label__37\n",
      "__label__25\n",
      "__label__32\n",
      "__label__7\n",
      "author\n",
      "__label__56\n",
      "__label__14\n",
      "__label__19\n",
      "__label__37\n",
      "__label__26\n",
      "__label__35\n",
      "__label__33\n",
      "__label__23\n",
      "__label__0\n",
      "__label__8\n",
      "__label__5\n",
      "__label__54\n",
      "__label__52\n",
      "__label__53\n",
      "__label__34\n",
      "__label__24\n",
      "__label__4\n",
      "__label__40\n",
      "__label__17\n",
      "__label__49\n",
      "__label__42\n",
      "__label__10\n",
      "__label__16\n",
      "__label__1\n",
      "__label__51\n",
      "__label__59\n",
      "__label__39\n",
      "__label__3\n",
      "__label__7\n",
      "__label__18\n",
      "__label__57\n",
      "__label__25\n",
      "__label__43\n",
      "__label__15\n",
      "__label__46\n",
      "__label__38\n",
      "__label__58\n",
      "__label__13\n",
      "__label__29\n",
      "__label__11\n",
      "__label__36\n",
      "__label__32\n",
      "__label__20\n",
      "__label__31\n",
      "__label__55\n",
      "__label__50\n",
      "__label__9\n",
      "__label__6\n",
      "__label__30\n",
      "__label__22\n",
      "__label__48\n",
      "__label__12\n",
      "__label__21\n",
      "__label__2\n",
      "__label__41\n",
      "__label__44\n",
      "__label__45\n",
      "__label__28\n",
      "__label__47\n",
      "__label__27\n"
     ]
    }
   ],
   "source": [
    "y_pred_test_probabilities = [log_regr.predict_proba(x) for x in xtest_tfv]\n",
    "\n",
    "for probability_matrix in y_pred_test_probabilities:\n",
    "    prediction = hung(pos2nneg(probability_matrix))\n",
    "    \n",
    "    print(\"author\")\n",
    "    for author_id in prediction:\n",
    "        print(\"__label__{}\".format(author_id))"
   ]
  },
  {
   "cell_type": "code",
   "execution_count": null,
   "metadata": {},
   "outputs": [],
   "source": []
  }
 ],
 "metadata": {
  "celltoolbar": "Raw Cell Format",
  "kernelspec": {
   "display_name": "Python 3",
   "language": "python",
   "name": "python3"
  },
  "language_info": {
   "codemirror_mode": {
    "name": "ipython",
    "version": 3
   },
   "file_extension": ".py",
   "mimetype": "text/x-python",
   "name": "python",
   "nbconvert_exporter": "python",
   "pygments_lexer": "ipython3",
   "version": "3.7.1"
  }
 },
 "nbformat": 4,
 "nbformat_minor": 2
}
