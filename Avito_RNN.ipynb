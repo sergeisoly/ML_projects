{
 "cells": [
  {
   "cell_type": "code",
   "execution_count": 1,
   "metadata": {},
   "outputs": [
    {
     "name": "stderr",
     "output_type": "stream",
     "text": [
      "Using TensorFlow backend.\n"
     ]
    }
   ],
   "source": [
    "import pandas as pd\n",
    "import numpy as np\n",
    "import operator \n",
    "import re\n",
    "\n",
    "import time \n",
    "import gc \n",
    "\n",
    "np.random.seed(42)\n",
    "\n",
    "from keras.models import Model\n",
    "from keras.layers import Input, Dropout, Dense, Embedding, SpatialDropout1D, concatenate\n",
    "from keras.layers import GRU, Bidirectional,LSTM, GlobalAveragePooling1D, GlobalMaxPooling1D, BatchNormalization, Conv1D, MaxPooling1D, Flatten\n",
    "from keras.preprocessing.sequence import pad_sequences\n",
    "from keras.preprocessing import text, sequence\n",
    "from keras.callbacks import Callback\n",
    "from keras import backend as K\n",
    "from keras.models import Model\n",
    "\n",
    "from keras import optimizers\n",
    "\n",
    "from sklearn.preprocessing import LabelBinarizer\n",
    "from sklearn.preprocessing import LabelEncoder, MinMaxScaler, StandardScaler\n",
    "\n",
    "import warnings\n",
    "warnings.filterwarnings('ignore')\n",
    "\n",
    "import os\n",
    "os.environ['OMP_NUM_THREADS'] = '24'\n",
    "\n",
    "import re\n",
    "from keras.optimizers import RMSprop, Adam\n",
    "from keras.callbacks import ModelCheckpoint, EarlyStopping\n",
    "\n",
    "from tqdm import tqdm"
   ]
  },
  {
   "cell_type": "code",
   "execution_count": 2,
   "metadata": {},
   "outputs": [
    {
     "name": "stdout",
     "output_type": "stream",
     "text": [
      "Number of texts:  489517\n"
     ]
    }
   ],
   "source": [
    "train = pd.read_csv('../avito_test/train.csv')\n",
    "#test = pd.read_csv('../avito_test/test.csv')\n",
    "#df = pd.concat([train ,test])\n",
    "df = train\n",
    "print(\"Number of texts: \", df.shape[0])\n"
   ]
  },
  {
   "cell_type": "code",
   "execution_count": 3,
   "metadata": {},
   "outputs": [],
   "source": [
    "df['text'] = df['title'] + ' '+ df['description'] "
   ]
  },
  {
   "cell_type": "code",
   "execution_count": 4,
   "metadata": {},
   "outputs": [],
   "source": [
    "EMBEDDING_DIM = 300\n",
    "EMBEDDING_FILE = '../avito_test/cc.ru.300.vec'\n",
    "def get_coefs(word, *arr): return word, np.asarray(arr, dtype='float32')\n",
    "embeddings_index = dict(get_coefs(*o.rstrip().rsplit(' ')) for o in open(EMBEDDING_FILE))"
   ]
  },
  {
   "cell_type": "code",
   "execution_count": 5,
   "metadata": {},
   "outputs": [],
   "source": [
    "def build_vocab(texts):\n",
    "    sentences = texts.apply(lambda x: x.split()).values\n",
    "    vocab = {}\n",
    "    for sentence in sentences:\n",
    "        for word in sentence:\n",
    "            try:\n",
    "                vocab[word] += 1\n",
    "            except KeyError:\n",
    "                vocab[word] = 1\n",
    "    return vocab"
   ]
  },
  {
   "cell_type": "code",
   "execution_count": 6,
   "metadata": {},
   "outputs": [],
   "source": [
    "def check_coverage(vocab, embeddings_index):\n",
    "    known_words = {}\n",
    "    unknown_words = {}\n",
    "    nb_known_words = 0\n",
    "    nb_unknown_words = 0\n",
    "    for word in vocab.keys():\n",
    "        try:\n",
    "            known_words[word] = embeddings_index[word]\n",
    "            nb_known_words += vocab[word]\n",
    "        except:\n",
    "            unknown_words[word] = vocab[word]\n",
    "            nb_unknown_words += vocab[word]\n",
    "            pass\n",
    "\n",
    "    print('Found embeddings for {:.2%} of vocab'.format(len(known_words) / len(vocab)))\n",
    "    print('Found embeddings for  {:.2%} of all text'.format(nb_known_words / (nb_known_words + nb_unknown_words)))\n",
    "    unknown_words = sorted(unknown_words.items(), key=operator.itemgetter(1))[::-1]\n",
    "\n",
    "    return unknown_words"
   ]
  },
  {
   "cell_type": "code",
   "execution_count": 7,
   "metadata": {},
   "outputs": [],
   "source": [
    "vocab = build_vocab(df['text'])"
   ]
  },
  {
   "cell_type": "code",
   "execution_count": 8,
   "metadata": {},
   "outputs": [
    {
     "name": "stdout",
     "output_type": "stream",
     "text": [
      "FastText : \n",
      "Found embeddings for 23.25% of vocab\n",
      "Found embeddings for  80.94% of all text\n"
     ]
    }
   ],
   "source": [
    "print(\"FastText : \")\n",
    "oov_fasttext = check_coverage(vocab, embeddings_index)"
   ]
  },
  {
   "cell_type": "code",
   "execution_count": 9,
   "metadata": {},
   "outputs": [
    {
     "data": {
      "text/plain": [
       "[('состоянии,', 21670),\n",
       " ('б/у', 11750),\n",
       " ('см,', 9816),\n",
       " ('!!!', 7097),\n",
       " ('Цвет:', 6677),\n",
       " ('мм,', 6007),\n",
       " ('Материал:', 5908),\n",
       " ('100%', 5794),\n",
       " ('товара:', 5623),\n",
       " ('Вес:', 5621)]"
      ]
     },
     "execution_count": 9,
     "metadata": {},
     "output_type": "execute_result"
    }
   ],
   "source": [
    "oov_fasttext[:10]"
   ]
  },
  {
   "cell_type": "code",
   "execution_count": 10,
   "metadata": {},
   "outputs": [],
   "source": [
    "punct = \"/-'?!.,#$%\\'()*+-/:;<=>@[\\\\]^_`{|}~\" + '\"\"“”’' + '∞θ÷α•à−β∅³π‘₹´°£€\\×™√²—–&'"
   ]
  },
  {
   "cell_type": "code",
   "execution_count": 11,
   "metadata": {},
   "outputs": [],
   "source": [
    "def unknown_punct(embed, punct):\n",
    "    unknown = ''\n",
    "    for p in punct:\n",
    "        if p not in embed:\n",
    "            unknown += p\n",
    "            unknown += ' '\n",
    "    return unknown"
   ]
  },
  {
   "cell_type": "code",
   "execution_count": 12,
   "metadata": {},
   "outputs": [],
   "source": [
    "punct_mapping = {\"‘\": \"'\", \"₹\": \"e\", \"´\": \"'\", \"°\": \"\", \"€\": \"e\", \"™\": \"tm\", \"√\": \" sqrt \", \"×\": \"x\", \"²\": \"2\", \"—\": \"-\", \"–\": \"-\", \"’\": \"'\", \"_\": \"-\", \"`\": \"'\", '“': '\"', '”': '\"', '“': '\"', \"£\": \"e\", '∞': 'infinity', 'θ': 'theta', '÷': '/', 'α': 'alpha', '•': '.', 'à': 'a', '−': '-', 'β': 'beta', '∅': '', '³': '3', 'π': 'pi', }\n"
   ]
  },
  {
   "cell_type": "code",
   "execution_count": 13,
   "metadata": {},
   "outputs": [],
   "source": [
    "def clean_special_chars(text, punct, mapping):\n",
    "    for p in mapping:\n",
    "        text = text.replace(p, mapping[p])\n",
    "    \n",
    "    for p in punct:\n",
    "        text = text.replace(p, f' {p} ')\n",
    "    \n",
    "    specials = {'▼':'', '®':'', '🌴':'', '→→→':' ', '❗':' ', '📌': '', '💰': ' ', '👍': ' ', '🌞':' ', '✔': '', '►': ' ', '⇒⇒⇒⇒⇒⇒⇒⇒⇒⇒⇒⇒⇒⇒': ' ', '➜➜': ' ', '✅':' ', '\\u200b': ' ', '…': ' ... ', '\\ufeff': '', 'करना': '', 'है': ''}  # Other special characters that I have to deal with in last\n",
    "    for s in specials:\n",
    "        text = text.replace(s, specials[s])\n",
    "    \n",
    "    return text"
   ]
  },
  {
   "cell_type": "code",
   "execution_count": 14,
   "metadata": {},
   "outputs": [],
   "source": [
    "df['text'] = df['text'].apply(lambda x: clean_special_chars(x, punct, punct_mapping))"
   ]
  },
  {
   "cell_type": "code",
   "execution_count": 15,
   "metadata": {},
   "outputs": [
    {
     "name": "stdout",
     "output_type": "stream",
     "text": [
      "Found embeddings for 54.80% of vocab\n",
      "Found embeddings for  97.98% of all text\n"
     ]
    }
   ],
   "source": [
    "vocab = build_vocab(df['text'])\n",
    "oov_fasttext = check_coverage(vocab, embeddings_index)"
   ]
  },
  {
   "cell_type": "code",
   "execution_count": 16,
   "metadata": {},
   "outputs": [
    {
     "data": {
      "text/plain": [
       "[('мА⋅ч', 2488),\n",
       " ('РегионГолд', 1520),\n",
       " ('kubcirkonii', 581),\n",
       " ('webitemaddadditemalltesttestitemalltest', 511),\n",
       " ('pseudopectinatus', 416),\n",
       " ('LP156WH2', 348),\n",
       " ('№00', 342),\n",
       " ('№1', 340),\n",
       " ('LP154W01', 329),\n",
       " ('асорттимент', 324)]"
      ]
     },
     "execution_count": 16,
     "metadata": {},
     "output_type": "execute_result"
    }
   ],
   "source": [
    "oov_fasttext[:10]"
   ]
  },
  {
   "cell_type": "code",
   "execution_count": 17,
   "metadata": {},
   "outputs": [],
   "source": [
    "mispell_dict = {'оцинковать': 'оцинковывать','ботильон':'ботинки ', 'Недрагоценные':'не драгоценные','лфз':'императорский фарфоровый завод','pseudopectinatus':'кактус', 'асорттимент':'ассортимент','мА⋅ч': 'миллиампер-час', 'мА·ч':'миллиампер-час', 'РегионГолд':'ювелирный магазин','kubcirkonii':'ювелирные украшения'}\n"
   ]
  },
  {
   "cell_type": "code",
   "execution_count": 18,
   "metadata": {},
   "outputs": [],
   "source": [
    "def correct_spelling(x, dic):\n",
    "    for word in dic.keys():\n",
    "        x = x.replace(word, dic[word])\n",
    "    return x"
   ]
  },
  {
   "cell_type": "code",
   "execution_count": 19,
   "metadata": {},
   "outputs": [
    {
     "name": "stdout",
     "output_type": "stream",
     "text": [
      "Found embeddings for 54.80% of vocab\n",
      "Found embeddings for  98.00% of all text\n"
     ]
    }
   ],
   "source": [
    "df['text'] = df['text'].apply(lambda x: correct_spelling(x, mispell_dict))\n",
    "df['text'] = df['text'].apply(lambda x: re.sub(' +', ' ', x))\n",
    "vocab = build_vocab(df['text'])\n",
    "oov_fasttext = check_coverage(vocab, embeddings_index)"
   ]
  },
  {
   "cell_type": "code",
   "execution_count": null,
   "metadata": {},
   "outputs": [],
   "source": []
  },
  {
   "cell_type": "code",
   "execution_count": 20,
   "metadata": {},
   "outputs": [],
   "source": [
    "EMBEDDING_FILE_2 = '../crawl-300d-2M.vec'\n",
    "embeddings_index_2 = dict(get_coefs(*o.rstrip().rsplit(' ')) for o in open(EMBEDDING_FILE_2))"
   ]
  },
  {
   "cell_type": "code",
   "execution_count": 21,
   "metadata": {},
   "outputs": [],
   "source": [
    "def add_eng(embedding1, embedding2):\n",
    "    count = 0\n",
    "    for word in embedding2:\n",
    "        if word not in embedding1 :  \n",
    "            embedding1[word] = embedding2[word]\n",
    "            count += 1\n",
    "    print(f\"Added {count} words to embedding\")"
   ]
  },
  {
   "cell_type": "code",
   "execution_count": 22,
   "metadata": {},
   "outputs": [
    {
     "name": "stdout",
     "output_type": "stream",
     "text": [
      "Added 1766419 words to embedding\n"
     ]
    }
   ],
   "source": [
    "add_eng(embeddings_index, embeddings_index_2)"
   ]
  },
  {
   "cell_type": "code",
   "execution_count": 23,
   "metadata": {},
   "outputs": [
    {
     "name": "stdout",
     "output_type": "stream",
     "text": [
      "Found embeddings for 58.32% of vocab\n",
      "Found embeddings for  98.23% of all text\n"
     ]
    }
   ],
   "source": [
    "oov_fasttext = check_coverage(vocab, embeddings_index)"
   ]
  },
  {
   "cell_type": "code",
   "execution_count": 24,
   "metadata": {},
   "outputs": [
    {
     "data": {
      "text/html": [
       "<div>\n",
       "<style scoped>\n",
       "    .dataframe tbody tr th:only-of-type {\n",
       "        vertical-align: middle;\n",
       "    }\n",
       "\n",
       "    .dataframe tbody tr th {\n",
       "        vertical-align: top;\n",
       "    }\n",
       "\n",
       "    .dataframe thead th {\n",
       "        text-align: right;\n",
       "    }\n",
       "</style>\n",
       "<table border=\"1\" class=\"dataframe\">\n",
       "  <thead>\n",
       "    <tr style=\"text-align: right;\">\n",
       "      <th></th>\n",
       "      <th>item_id</th>\n",
       "      <th>title</th>\n",
       "      <th>description</th>\n",
       "      <th>price</th>\n",
       "      <th>category_id</th>\n",
       "      <th>text</th>\n",
       "    </tr>\n",
       "  </thead>\n",
       "  <tbody>\n",
       "    <tr>\n",
       "      <th>0</th>\n",
       "      <td>0</td>\n",
       "      <td>Картина</td>\n",
       "      <td>Гобелен. Размеры 139х84см.</td>\n",
       "      <td>1000.0</td>\n",
       "      <td>19</td>\n",
       "      <td>Картина Гобелен . Размеры 139х84см .</td>\n",
       "    </tr>\n",
       "    <tr>\n",
       "      <th>1</th>\n",
       "      <td>1</td>\n",
       "      <td>Стулья из прессованной кожи</td>\n",
       "      <td>Продам недорого 4 стула из светлой прессованно...</td>\n",
       "      <td>1250.0</td>\n",
       "      <td>22</td>\n",
       "      <td>Стулья из прессованной кожи Продам недорого 4 ...</td>\n",
       "    </tr>\n",
       "    <tr>\n",
       "      <th>2</th>\n",
       "      <td>2</td>\n",
       "      <td>Домашняя мини баня</td>\n",
       "      <td>Мини баня МБ-1(мини сауна), предназначена для ...</td>\n",
       "      <td>13000.0</td>\n",
       "      <td>37</td>\n",
       "      <td>Домашняя мини баня Мини баня МБ - 1 ( мини сау...</td>\n",
       "    </tr>\n",
       "    <tr>\n",
       "      <th>3</th>\n",
       "      <td>3</td>\n",
       "      <td>Эксклюзивная коллекция книг \"Трансаэро\" + подарок</td>\n",
       "      <td>Продам эксклюзивную коллекцию книг, выпущенную...</td>\n",
       "      <td>4000.0</td>\n",
       "      <td>43</td>\n",
       "      <td>Эксклюзивная коллекция книг \" Трансаэро \" + по...</td>\n",
       "    </tr>\n",
       "    <tr>\n",
       "      <th>4</th>\n",
       "      <td>4</td>\n",
       "      <td>Ноутбук aser</td>\n",
       "      <td>Продаётся ноутбук ACER e5-511C2TA. Куплен в ко...</td>\n",
       "      <td>19000.0</td>\n",
       "      <td>1</td>\n",
       "      <td>Ноутбук aser Продаётся ноутбук ACER e5 - 511C2...</td>\n",
       "    </tr>\n",
       "  </tbody>\n",
       "</table>\n",
       "</div>"
      ],
      "text/plain": [
       "   item_id                                              title  \\\n",
       "0        0                                            Картина   \n",
       "1        1                        Стулья из прессованной кожи   \n",
       "2        2                                 Домашняя мини баня   \n",
       "3        3  Эксклюзивная коллекция книг \"Трансаэро\" + подарок   \n",
       "4        4                                       Ноутбук aser   \n",
       "\n",
       "                                         description    price  category_id  \\\n",
       "0                         Гобелен. Размеры 139х84см.   1000.0           19   \n",
       "1  Продам недорого 4 стула из светлой прессованно...   1250.0           22   \n",
       "2  Мини баня МБ-1(мини сауна), предназначена для ...  13000.0           37   \n",
       "3  Продам эксклюзивную коллекцию книг, выпущенную...   4000.0           43   \n",
       "4  Продаётся ноутбук ACER e5-511C2TA. Куплен в ко...  19000.0            1   \n",
       "\n",
       "                                                text  \n",
       "0              Картина Гобелен . Размеры 139х84см .   \n",
       "1  Стулья из прессованной кожи Продам недорого 4 ...  \n",
       "2  Домашняя мини баня Мини баня МБ - 1 ( мини сау...  \n",
       "3  Эксклюзивная коллекция книг \" Трансаэро \" + по...  \n",
       "4  Ноутбук aser Продаётся ноутбук ACER e5 - 511C2...  "
      ]
     },
     "execution_count": 24,
     "metadata": {},
     "output_type": "execute_result"
    }
   ],
   "source": [
    "df.head()"
   ]
  },
  {
   "cell_type": "code",
   "execution_count": 134,
   "metadata": {},
   "outputs": [],
   "source": [
    "\n",
    "df_x_train = pd.read_csv('../avito_test/prep_dataset.csv')\n",
    "#df_y_train = train['category_id']\n",
    "\n",
    "df_y_train = df_x_train['category_id']"
   ]
  },
  {
   "cell_type": "code",
   "execution_count": 110,
   "metadata": {},
   "outputs": [
    {
     "data": {
      "text/html": [
       "<div>\n",
       "<style scoped>\n",
       "    .dataframe tbody tr th:only-of-type {\n",
       "        vertical-align: middle;\n",
       "    }\n",
       "\n",
       "    .dataframe tbody tr th {\n",
       "        vertical-align: top;\n",
       "    }\n",
       "\n",
       "    .dataframe thead th {\n",
       "        text-align: right;\n",
       "    }\n",
       "</style>\n",
       "<table border=\"1\" class=\"dataframe\">\n",
       "  <thead>\n",
       "    <tr style=\"text-align: right;\">\n",
       "      <th></th>\n",
       "      <th>Unnamed: 0</th>\n",
       "      <th>item_id</th>\n",
       "      <th>title</th>\n",
       "      <th>description</th>\n",
       "      <th>price</th>\n",
       "      <th>category_id</th>\n",
       "      <th>preproc1_des</th>\n",
       "      <th>preproc1_tit</th>\n",
       "      <th>preproc2_des</th>\n",
       "      <th>preproc2_tit</th>\n",
       "      <th>...</th>\n",
       "      <th>price_45_log_nrm</th>\n",
       "      <th>price_50_log_nrm</th>\n",
       "      <th>price_55_log_nrm</th>\n",
       "      <th>price_60_log_nrm</th>\n",
       "      <th>price_70_log_nrm</th>\n",
       "      <th>price_80_log_nrm</th>\n",
       "      <th>price_90_log_nrm</th>\n",
       "      <th>price_99_log_nrm</th>\n",
       "      <th>price_100_log_nrm</th>\n",
       "      <th>text</th>\n",
       "    </tr>\n",
       "  </thead>\n",
       "  <tbody>\n",
       "    <tr>\n",
       "      <th>0</th>\n",
       "      <td>0</td>\n",
       "      <td>0</td>\n",
       "      <td>Картина</td>\n",
       "      <td>Гобелен. Размеры 139х84см.</td>\n",
       "      <td>1000.0</td>\n",
       "      <td>19</td>\n",
       "      <td>гобелен размер 139х84см</td>\n",
       "      <td>картина</td>\n",
       "      <td>гобелен_S размер_S 139х84см_UNKN</td>\n",
       "      <td>картина_S</td>\n",
       "      <td>...</td>\n",
       "      <td>0.0</td>\n",
       "      <td>0.0</td>\n",
       "      <td>0.0</td>\n",
       "      <td>0.0</td>\n",
       "      <td>0.000000</td>\n",
       "      <td>0.0</td>\n",
       "      <td>0.000000</td>\n",
       "      <td>0.000000</td>\n",
       "      <td>0.0</td>\n",
       "      <td>картина гобелен размер 139х84см</td>\n",
       "    </tr>\n",
       "    <tr>\n",
       "      <th>1</th>\n",
       "      <td>1</td>\n",
       "      <td>1</td>\n",
       "      <td>Стулья из прессованной кожи</td>\n",
       "      <td>Продам недорого 4 стула из светлой прессованно...</td>\n",
       "      <td>1250.0</td>\n",
       "      <td>22</td>\n",
       "      <td>продавать недорого 4 стул из светлый прессован...</td>\n",
       "      <td>стул из прессованный кожа</td>\n",
       "      <td>продавать_V недорого_ADV 4_UNKN стул_S из_PR с...</td>\n",
       "      <td>стул_S из_PR прессованный_A кожа_S</td>\n",
       "      <td>...</td>\n",
       "      <td>0.0</td>\n",
       "      <td>0.0</td>\n",
       "      <td>0.0</td>\n",
       "      <td>0.0</td>\n",
       "      <td>0.000000</td>\n",
       "      <td>0.0</td>\n",
       "      <td>0.000000</td>\n",
       "      <td>0.000000</td>\n",
       "      <td>0.0</td>\n",
       "      <td>стул из прессованный кожа продавать недорого 4...</td>\n",
       "    </tr>\n",
       "    <tr>\n",
       "      <th>2</th>\n",
       "      <td>2</td>\n",
       "      <td>2</td>\n",
       "      <td>Домашняя мини баня</td>\n",
       "      <td>Мини баня МБ-1(мини сауна), предназначена для ...</td>\n",
       "      <td>13000.0</td>\n",
       "      <td>37</td>\n",
       "      <td>мини баня мб 1 мини сауна предназначать для пр...</td>\n",
       "      <td>домашний мини баня</td>\n",
       "      <td>мини_COM баня_S мб_S 1_UNKN мини_COM сауна_S п...</td>\n",
       "      <td>домашний_A мини_COM баня_S</td>\n",
       "      <td>...</td>\n",
       "      <td>0.0</td>\n",
       "      <td>0.0</td>\n",
       "      <td>0.0</td>\n",
       "      <td>0.0</td>\n",
       "      <td>0.000000</td>\n",
       "      <td>0.0</td>\n",
       "      <td>0.972519</td>\n",
       "      <td>0.000000</td>\n",
       "      <td>0.0</td>\n",
       "      <td>домашний мини баня мини баня мб 1 мини сауна п...</td>\n",
       "    </tr>\n",
       "    <tr>\n",
       "      <th>3</th>\n",
       "      <td>3</td>\n",
       "      <td>3</td>\n",
       "      <td>Эксклюзивная коллекция книг \"Трансаэро\" + подарок</td>\n",
       "      <td>Продам эксклюзивную коллекцию книг, выпущенную...</td>\n",
       "      <td>4000.0</td>\n",
       "      <td>43</td>\n",
       "      <td>продавать эксклюзивный коллекция книга выпуска...</td>\n",
       "      <td>эксклюзивный коллекция книга трансаэро подарок</td>\n",
       "      <td>продавать_V эксклюзивный_A коллекция_S книга_S...</td>\n",
       "      <td>эксклюзивный_A коллекция_S книга_S трансаэро_S...</td>\n",
       "      <td>...</td>\n",
       "      <td>0.0</td>\n",
       "      <td>0.0</td>\n",
       "      <td>0.0</td>\n",
       "      <td>0.0</td>\n",
       "      <td>0.963024</td>\n",
       "      <td>0.0</td>\n",
       "      <td>0.000000</td>\n",
       "      <td>0.000000</td>\n",
       "      <td>0.0</td>\n",
       "      <td>эксклюзивный коллекция книга трансаэро подарок...</td>\n",
       "    </tr>\n",
       "    <tr>\n",
       "      <th>4</th>\n",
       "      <td>4</td>\n",
       "      <td>4</td>\n",
       "      <td>Ноутбук aser</td>\n",
       "      <td>Продаётся ноутбук ACER e5-511C2TA. Куплен в ко...</td>\n",
       "      <td>19000.0</td>\n",
       "      <td>1</td>\n",
       "      <td>прод тся ноутбук acer e5 511c2ta купить в коне...</td>\n",
       "      <td>ноутбук aser</td>\n",
       "      <td>прод_S тся_S ноутбук_S acer_UNKN e5_UNKN 511c2...</td>\n",
       "      <td>ноутбук_S aser_UNKN</td>\n",
       "      <td>...</td>\n",
       "      <td>0.0</td>\n",
       "      <td>0.0</td>\n",
       "      <td>0.0</td>\n",
       "      <td>0.0</td>\n",
       "      <td>0.000000</td>\n",
       "      <td>0.0</td>\n",
       "      <td>0.000000</td>\n",
       "      <td>0.873452</td>\n",
       "      <td>0.0</td>\n",
       "      <td>ноутбук aser прод тся ноутбук acer e5 511c2ta ...</td>\n",
       "    </tr>\n",
       "  </tbody>\n",
       "</table>\n",
       "<p>5 rows × 27 columns</p>\n",
       "</div>"
      ],
      "text/plain": [
       "   Unnamed: 0  item_id                                              title  \\\n",
       "0           0        0                                            Картина   \n",
       "1           1        1                        Стулья из прессованной кожи   \n",
       "2           2        2                                 Домашняя мини баня   \n",
       "3           3        3  Эксклюзивная коллекция книг \"Трансаэро\" + подарок   \n",
       "4           4        4                                       Ноутбук aser   \n",
       "\n",
       "                                         description    price  category_id  \\\n",
       "0                         Гобелен. Размеры 139х84см.   1000.0           19   \n",
       "1  Продам недорого 4 стула из светлой прессованно...   1250.0           22   \n",
       "2  Мини баня МБ-1(мини сауна), предназначена для ...  13000.0           37   \n",
       "3  Продам эксклюзивную коллекцию книг, выпущенную...   4000.0           43   \n",
       "4  Продаётся ноутбук ACER e5-511C2TA. Куплен в ко...  19000.0            1   \n",
       "\n",
       "                                        preproc1_des  \\\n",
       "0                            гобелен размер 139х84см   \n",
       "1  продавать недорого 4 стул из светлый прессован...   \n",
       "2  мини баня мб 1 мини сауна предназначать для пр...   \n",
       "3  продавать эксклюзивный коллекция книга выпуска...   \n",
       "4  прод тся ноутбук acer e5 511c2ta купить в коне...   \n",
       "\n",
       "                                     preproc1_tit  \\\n",
       "0                                         картина   \n",
       "1                       стул из прессованный кожа   \n",
       "2                              домашний мини баня   \n",
       "3  эксклюзивный коллекция книга трансаэро подарок   \n",
       "4                                    ноутбук aser   \n",
       "\n",
       "                                        preproc2_des  \\\n",
       "0                   гобелен_S размер_S 139х84см_UNKN   \n",
       "1  продавать_V недорого_ADV 4_UNKN стул_S из_PR с...   \n",
       "2  мини_COM баня_S мб_S 1_UNKN мини_COM сауна_S п...   \n",
       "3  продавать_V эксклюзивный_A коллекция_S книга_S...   \n",
       "4  прод_S тся_S ноутбук_S acer_UNKN e5_UNKN 511c2...   \n",
       "\n",
       "                                        preproc2_tit  \\\n",
       "0                                          картина_S   \n",
       "1                 стул_S из_PR прессованный_A кожа_S   \n",
       "2                         домашний_A мини_COM баня_S   \n",
       "3  эксклюзивный_A коллекция_S книга_S трансаэро_S...   \n",
       "4                                ноутбук_S aser_UNKN   \n",
       "\n",
       "                         ...                         price_45_log_nrm  \\\n",
       "0                        ...                                      0.0   \n",
       "1                        ...                                      0.0   \n",
       "2                        ...                                      0.0   \n",
       "3                        ...                                      0.0   \n",
       "4                        ...                                      0.0   \n",
       "\n",
       "  price_50_log_nrm  price_55_log_nrm  price_60_log_nrm  price_70_log_nrm  \\\n",
       "0              0.0               0.0               0.0          0.000000   \n",
       "1              0.0               0.0               0.0          0.000000   \n",
       "2              0.0               0.0               0.0          0.000000   \n",
       "3              0.0               0.0               0.0          0.963024   \n",
       "4              0.0               0.0               0.0          0.000000   \n",
       "\n",
       "   price_80_log_nrm  price_90_log_nrm  price_99_log_nrm  price_100_log_nrm  \\\n",
       "0               0.0          0.000000          0.000000                0.0   \n",
       "1               0.0          0.000000          0.000000                0.0   \n",
       "2               0.0          0.972519          0.000000                0.0   \n",
       "3               0.0          0.000000          0.000000                0.0   \n",
       "4               0.0          0.000000          0.873452                0.0   \n",
       "\n",
       "                                                text  \n",
       "0                    картина гобелен размер 139х84см  \n",
       "1  стул из прессованный кожа продавать недорого 4...  \n",
       "2  домашний мини баня мини баня мб 1 мини сауна п...  \n",
       "3  эксклюзивный коллекция книга трансаэро подарок...  \n",
       "4  ноутбук aser прод тся ноутбук acer e5 511c2ta ...  \n",
       "\n",
       "[5 rows x 27 columns]"
      ]
     },
     "execution_count": 110,
     "metadata": {},
     "output_type": "execute_result"
    }
   ],
   "source": [
    "df_x_train.head()"
   ]
  },
  {
   "cell_type": "code",
   "execution_count": 135,
   "metadata": {},
   "outputs": [],
   "source": [
    "df_x_train['text'] = df_x_train['preproc1_tit'] + ' '+ df_x_train['preproc1_des'] "
   ]
  },
  {
   "cell_type": "code",
   "execution_count": 136,
   "metadata": {},
   "outputs": [],
   "source": [
    "df_x_train['text'] = df_x_train['text'].astype(str)"
   ]
  },
  {
   "cell_type": "code",
   "execution_count": 137,
   "metadata": {},
   "outputs": [],
   "source": [
    "import argparse\n",
    "config = argparse.Namespace()"
   ]
  },
  {
   "cell_type": "code",
   "execution_count": 138,
   "metadata": {},
   "outputs": [],
   "source": [
    "price = np.log1p(df_x_train['price'])"
   ]
  },
  {
   "cell_type": "code",
   "execution_count": 139,
   "metadata": {},
   "outputs": [],
   "source": [
    "config.len_text = 100000"
   ]
  },
  {
   "cell_type": "code",
   "execution_count": 140,
   "metadata": {},
   "outputs": [],
   "source": [
    "from keras.preprocessing.text import Tokenizer\n",
    "tokenizer_text = Tokenizer(num_words = config.len_text, lower = False)\n",
    "tokenizer_text.fit_on_texts(df_x_train['text'].values)\n",
    "tr_desc_seq = tokenizer_text.texts_to_sequences(df_x_train['text'].values)\n"
   ]
  },
  {
   "cell_type": "code",
   "execution_count": 141,
   "metadata": {},
   "outputs": [],
   "source": [
    "config.maxlen= 150"
   ]
  },
  {
   "cell_type": "code",
   "execution_count": 142,
   "metadata": {},
   "outputs": [],
   "source": [
    "tr_desc_pad = pad_sequences(tr_desc_seq, maxlen=config.maxlen)"
   ]
  },
  {
   "cell_type": "code",
   "execution_count": 143,
   "metadata": {},
   "outputs": [],
   "source": [
    "valid_idx = df_x_train.sample(frac=0.1, random_state=42).index\n",
    "train_idx = df_x_train[np.invert(df_x_train.index.isin(valid_idx))].index"
   ]
  },
  {
   "cell_type": "code",
   "execution_count": 144,
   "metadata": {},
   "outputs": [],
   "source": [
    "from keras.utils import np_utils\n",
    "X = np.array([price])\n",
    "Y = np_utils.to_categorical(df_y_train)"
   ]
  },
  {
   "cell_type": "code",
   "execution_count": 145,
   "metadata": {},
   "outputs": [],
   "source": [
    "X_train = [x[train_idx] for x in X]\n",
    "X_valid = [x[valid_idx] for x in X]"
   ]
  },
  {
   "cell_type": "code",
   "execution_count": 146,
   "metadata": {},
   "outputs": [],
   "source": [
    "Y_train = Y[train_idx]\n",
    "Y_valid = Y[valid_idx]"
   ]
  },
  {
   "cell_type": "code",
   "execution_count": 147,
   "metadata": {},
   "outputs": [],
   "source": [
    "X_train.append(tr_desc_pad[train_idx])\n",
    "X_valid.append(tr_desc_pad[valid_idx])"
   ]
  },
  {
   "cell_type": "code",
   "execution_count": 148,
   "metadata": {},
   "outputs": [
    {
     "name": "stdout",
     "output_type": "stream",
     "text": [
      "word not in texts: 219505, words in texts: 118908\n",
      "embedding matrix shape: (338415, 300)\n"
     ]
    }
   ],
   "source": [
    "vocab_size = len(tokenizer_text.word_index)+2\n",
    "EMBEDDING_DIM = 300# this is from the pretrained vectors\n",
    "embedding_matrix = np.zeros((vocab_size, EMBEDDING_DIM))\n",
    "\n",
    "# Creating Embedding matrix \n",
    "w_Y = []\n",
    "w_No = []\n",
    "for word, i in tokenizer_text.word_index.items():\n",
    "    if word in embeddings_index:\n",
    "        embedding_vector = embeddings_index[word]\n",
    "        w_Y.append(word)\n",
    "    else:\n",
    "        embedding_vector = None\n",
    "        w_No.append(word)\n",
    "    if embedding_vector is not None:    \n",
    "        embedding_matrix[i] = embedding_vector\n",
    "\n",
    "print(f'word not in texts: {len(w_No)}, words in texts: {len(w_Y)}')\n",
    "print(f'embedding matrix shape: {embedding_matrix.shape}')\n"
   ]
  },
  {
   "cell_type": "code",
   "execution_count": 149,
   "metadata": {},
   "outputs": [],
   "source": [
    "config.batch_size = 4096"
   ]
  },
  {
   "cell_type": "code",
   "execution_count": 150,
   "metadata": {},
   "outputs": [],
   "source": [
    "from keras.engine.topology import Layer\n",
    "from keras import initializers, regularizers, constraints\n",
    "\n",
    "\n",
    "class Attention(Layer):\n",
    "    def __init__(self, step_dim,\n",
    "                 W_regularizer=None, b_regularizer=None,\n",
    "                 W_constraint=None, b_constraint=None,\n",
    "                 bias=True, **kwargs):\n",
    "        self.supports_masking = True\n",
    "        self.init = initializers.get('glorot_uniform')\n",
    "\n",
    "        self.W_regularizer = regularizers.get(W_regularizer)\n",
    "        self.b_regularizer = regularizers.get(b_regularizer)\n",
    "\n",
    "        self.W_constraint = constraints.get(W_constraint)\n",
    "        self.b_constraint = constraints.get(b_constraint)\n",
    "\n",
    "        self.bias = bias\n",
    "        self.step_dim = step_dim\n",
    "        self.features_dim = 0\n",
    "        super(Attention, self).__init__(**kwargs)\n",
    "\n",
    "    def build(self, input_shape):\n",
    "        assert len(input_shape) == 3\n",
    "\n",
    "        self.W = self.add_weight((input_shape[-1],),\n",
    "                                 initializer=self.init,\n",
    "                                 name='{}_W'.format(self.name),\n",
    "                                 regularizer=self.W_regularizer,\n",
    "                                 constraint=self.W_constraint)\n",
    "        self.features_dim = input_shape[-1]\n",
    "\n",
    "        if self.bias:\n",
    "            self.b = self.add_weight((input_shape[1],),\n",
    "                                     initializer='zero',\n",
    "                                     name='{}_b'.format(self.name),\n",
    "                                     regularizer=self.b_regularizer,\n",
    "                                     constraint=self.b_constraint)\n",
    "        else:\n",
    "            self.b = None\n",
    "\n",
    "        self.built = True\n",
    "\n",
    "    def compute_mask(self, input, input_mask=None):\n",
    "        return None\n",
    "\n",
    "    def call(self, x, mask=None):\n",
    "        features_dim = self.features_dim\n",
    "        step_dim = self.step_dim\n",
    "\n",
    "        eij = K.reshape(K.dot(K.reshape(x, (-1, features_dim)),\n",
    "                        K.reshape(self.W, (features_dim, 1))), (-1, step_dim))\n",
    "\n",
    "        if self.bias:\n",
    "            eij += self.b\n",
    "\n",
    "        eij = K.tanh(eij)\n",
    "\n",
    "        a = K.exp(eij)\n",
    "\n",
    "        if mask is not None:\n",
    "            a *= K.cast(mask, K.floatx())\n",
    "\n",
    "        a /= K.cast(K.sum(a, axis=1, keepdims=True) + K.epsilon(), K.floatx())\n",
    "\n",
    "        a = K.expand_dims(a)\n",
    "        weighted_input = x * a\n",
    "        return K.sum(weighted_input, axis=1)\n",
    "\n",
    "    def compute_output_shape(self, input_shape):\n",
    "        return input_shape[0],  self.features_dim"
   ]
  },
  {
   "cell_type": "code",
   "execution_count": 161,
   "metadata": {},
   "outputs": [],
   "source": [
    "def get_model():\n",
    "    K.clear_session()\n",
    "    \n",
    "    #price\n",
    "    inp_price = Input(shape=(1, ), name='inp_price')\n",
    "    emb_price = Dense(14, activation='tanh', name='emb_price')(inp_price)\n",
    "\n",
    "    # text\n",
    "    inp_text = Input(shape=(config.maxlen, ), name='inp_text')\n",
    "    emb_text = Embedding(vocab_size, EMBEDDING_DIM, \n",
    "                            weights = [embedding_matrix],trainable = True)(inp_text)\n",
    "                                          \n",
    "    \n",
    "    emb_text = SpatialDropout1D(0.2) (emb_text)\n",
    "    \n",
    "    rnn_layer = Bidirectional(LSTM(50, dropout=0.25, recurrent_dropout=0.25, return_sequences=True))(emb_text)\n",
    "    rnn_layer = Attention(config.maxlen) (rnn_layer)\n",
    "    \n",
    "    conc = concatenate([emb_price, rnn_layer], axis=-1)\n",
    "    \n",
    "    main = Dropout(0.2)(Dense(80,activation='relu') (conc))\n",
    "\n",
    "    outp = Dense(54, activation='sigmoid', name='output')(main)\n",
    "\n",
    "    model = Model(inputs = [inp_price, inp_text], outputs = outp)\n",
    "    return model"
   ]
  },
  {
   "cell_type": "code",
   "execution_count": 162,
   "metadata": {},
   "outputs": [
    {
     "name": "stdout",
     "output_type": "stream",
     "text": [
      "__________________________________________________________________________________________________\n",
      "Layer (type)                    Output Shape         Param #     Connected to                     \n",
      "==================================================================================================\n",
      "inp_text (InputLayer)           (None, 150)          0                                            \n",
      "__________________________________________________________________________________________________\n",
      "embedding_1 (Embedding)         (None, 150, 300)     101524500   inp_text[0][0]                   \n",
      "__________________________________________________________________________________________________\n",
      "spatial_dropout1d_1 (SpatialDro (None, 150, 300)     0           embedding_1[0][0]                \n",
      "__________________________________________________________________________________________________\n",
      "inp_price (InputLayer)          (None, 1)            0                                            \n",
      "__________________________________________________________________________________________________\n",
      "bidirectional_1 (Bidirectional) (None, 150, 100)     140400      spatial_dropout1d_1[0][0]        \n",
      "__________________________________________________________________________________________________\n",
      "emb_price (Dense)               (None, 14)           28          inp_price[0][0]                  \n",
      "__________________________________________________________________________________________________\n",
      "attention_1 (Attention)         (None, 100)          250         bidirectional_1[0][0]            \n",
      "__________________________________________________________________________________________________\n",
      "concatenate_1 (Concatenate)     (None, 114)          0           emb_price[0][0]                  \n",
      "                                                                 attention_1[0][0]                \n",
      "__________________________________________________________________________________________________\n",
      "dense_1 (Dense)                 (None, 80)           9200        concatenate_1[0][0]              \n",
      "__________________________________________________________________________________________________\n",
      "dropout_1 (Dropout)             (None, 80)           0           dense_1[0][0]                    \n",
      "__________________________________________________________________________________________________\n",
      "output (Dense)                  (None, 54)           4374        dropout_1[0][0]                  \n",
      "==================================================================================================\n",
      "Total params: 101,678,752\n",
      "Trainable params: 101,678,752\n",
      "Non-trainable params: 0\n",
      "__________________________________________________________________________________________________\n"
     ]
    }
   ],
   "source": [
    "model = get_model()\n",
    "model.compile(optimizer = 'adam',\n",
    "              loss= 'categorical_crossentropy',\n",
    "              metrics = ['categorical_accuracy'])\n",
    "model.summary()"
   ]
  },
  {
   "cell_type": "code",
   "execution_count": 163,
   "metadata": {},
   "outputs": [],
   "source": [
    "checkpoint = ModelCheckpoint('best_rnn.hdf5', monitor='val_accuracy', verbose=1, save_best_only=True)\n",
    "early = EarlyStopping(patience=3, mode='min')"
   ]
  },
  {
   "cell_type": "code",
   "execution_count": 164,
   "metadata": {},
   "outputs": [
    {
     "name": "stdout",
     "output_type": "stream",
     "text": [
      "Train on 433813 samples, validate on 48202 samples\n",
      "Epoch 1/12\n",
      "433813/433813 [==============================] - 727s 2ms/step - loss: 3.5030 - categorical_accuracy: 0.0915 - val_loss: 2.3581 - val_categorical_accuracy: 0.4168\n",
      "Epoch 2/12\n",
      "433813/433813 [==============================] - 712s 2ms/step - loss: 1.7860 - categorical_accuracy: 0.4809 - val_loss: 0.8627 - val_categorical_accuracy: 0.7911\n",
      "Epoch 3/12\n",
      "433813/433813 [==============================] - 706s 2ms/step - loss: 0.8581 - categorical_accuracy: 0.7737 - val_loss: 0.5627 - val_categorical_accuracy: 0.8525\n",
      "Epoch 4/12\n",
      "433813/433813 [==============================] - 707s 2ms/step - loss: 0.5948 - categorical_accuracy: 0.8435 - val_loss: 0.4877 - val_categorical_accuracy: 0.8672\n",
      "Epoch 5/12\n",
      "433813/433813 [==============================] - 712s 2ms/step - loss: 0.4919 - categorical_accuracy: 0.8672 - val_loss: 0.4551 - val_categorical_accuracy: 0.8739\n",
      "Epoch 6/12\n",
      "433813/433813 [==============================] - 718s 2ms/step - loss: 0.4311 - categorical_accuracy: 0.8813 - val_loss: 0.4381 - val_categorical_accuracy: 0.8774\n",
      "Epoch 7/12\n",
      "433813/433813 [==============================] - 717s 2ms/step - loss: 0.3864 - categorical_accuracy: 0.8916 - val_loss: 0.4308 - val_categorical_accuracy: 0.8800\n",
      "Epoch 8/12\n",
      "433813/433813 [==============================] - 712s 2ms/step - loss: 0.3547 - categorical_accuracy: 0.8990 - val_loss: 0.4302 - val_categorical_accuracy: 0.8809\n",
      "Epoch 9/12\n",
      "433813/433813 [==============================] - 718s 2ms/step - loss: 0.3288 - categorical_accuracy: 0.9046 - val_loss: 0.4292 - val_categorical_accuracy: 0.8813\n",
      "Epoch 10/12\n",
      "433813/433813 [==============================] - 714s 2ms/step - loss: 0.3056 - categorical_accuracy: 0.9107 - val_loss: 0.4338 - val_categorical_accuracy: 0.8812\n",
      "Epoch 11/12\n",
      "433813/433813 [==============================] - 711s 2ms/step - loss: 0.2862 - categorical_accuracy: 0.9152 - val_loss: 0.4414 - val_categorical_accuracy: 0.8808\n",
      "Epoch 12/12\n",
      "433813/433813 [==============================] - 706s 2ms/step - loss: 0.2696 - categorical_accuracy: 0.9193 - val_loss: 0.4468 - val_categorical_accuracy: 0.8804\n"
     ]
    }
   ],
   "source": [
    "history = model.fit(x=X_train, y=Y_train, validation_data=(X_valid, Y_valid), batch_size=config.batch_size, \n",
    "          epochs=12, callbacks=[early, checkpoint], verbose=1)"
   ]
  },
  {
   "cell_type": "code",
   "execution_count": 165,
   "metadata": {},
   "outputs": [
    {
     "data": {
      "image/png": "[encoded data removed]",
      "text/plain": [
       "<Figure size 432x288 with 1 Axes>"
      ]
     },
     "metadata": {
      "needs_background": "light"
     },
     "output_type": "display_data"
    },
    {
     "data": {
      "image/png": "[encoded data removed]",
      "text/plain": [
       "<Figure size 432x288 with 1 Axes>"
      ]
     },
     "metadata": {
      "needs_background": "light"
     },
     "output_type": "display_data"
    }
   ],
   "source": [
    "import matplotlib.pyplot as plt\n",
    "plt.plot(history.history['loss'])\n",
    "plt.plot(history.history['val_loss'])\n",
    "plt.title('model loss')\n",
    "plt.ylabel('loss')\n",
    "plt.xlabel('epoch')\n",
    "plt.legend(['train', 'test'], loc='upper left')\n",
    "plt.grid(True)\n",
    "plt.show()\n",
    "# summarize history for loss\n",
    "plt.plot(history.history['categorical_accuracy'])\n",
    "plt.plot(history.history['val_categorical_accuracy'])\n",
    "plt.title('model acc')\n",
    "plt.ylabel('acc')\n",
    "plt.xlabel('epoch')\n",
    "plt.legend(['train', 'test'], loc='upper left')\n",
    "plt.grid(True)\n",
    "plt.show()"
   ]
  },
  {
   "cell_type": "code",
   "execution_count": null,
   "metadata": {},
   "outputs": [],
   "source": []
  }
 ],
 "metadata": {
  "kernelspec": {
   "display_name": "Python 3",
   "language": "python",
   "name": "python3"
  },
  "language_info": {
   "codemirror_mode": {
    "name": "ipython",
    "version": 3
   },
   "file_extension": ".py",
   "mimetype": "text/x-python",
   "name": "python",
   "nbconvert_exporter": "python",
   "pygments_lexer": "ipython3",
   "version": "3.7.1"
  }
 },
 "nbformat": 4,
 "nbformat_minor": 2
}
