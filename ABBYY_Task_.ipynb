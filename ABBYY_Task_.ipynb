{
  "nbformat": 4,
  "nbformat_minor": 0,
  "metadata": {
    "colab": {
      "name": "ABBYY_Task_1.ipynb",
      "version": "0.3.2",
      "provenance": []
    },
    "kernelspec": {
      "name": "python3",
      "display_name": "Python 3"
    },
    "accelerator": "TPU"
  },
  "cells": [
    {
      "metadata": {
        "id": "1kz4ZC8rkhHO",
        "colab_type": "code",
        "outputId": "55ff8cfe-1a86-486a-be97-7360226503af",
        "colab": {
          "base_uri": "https://localhost:8080/",
          "height": 258
        }
      },
      "cell_type": "code",
      "source": [
        "import pandas as pd\n",
        "import numpy as np\n",
        "import xgboost as xgb\n",
        "from tqdm import tqdm\n",
        "from sklearn.svm import SVC\n",
        "from keras.models import Sequential\n",
        "from keras.layers.recurrent import LSTM, GRU\n",
        "from keras.layers.core import Dense, Activation, Dropout\n",
        "from keras.layers.embeddings import Embedding\n",
        "from keras.layers.normalization import BatchNormalization\n",
        "from keras.utils import np_utils\n",
        "from sklearn import preprocessing, decomposition, model_selection, metrics, pipeline\n",
        "from sklearn.model_selection import GridSearchCV\n",
        "from sklearn.feature_extraction.text import TfidfVectorizer, CountVectorizer\n",
        "from sklearn.decomposition import TruncatedSVD\n",
        "from sklearn.linear_model import LogisticRegression\n",
        "from sklearn.model_selection import train_test_split\n",
        "from sklearn.naive_bayes import MultinomialNB\n",
        "from keras.layers import GlobalMaxPooling1D, Conv1D, MaxPooling1D, Flatten, Bidirectional, SpatialDropout1D\n",
        "from keras.preprocessing import sequence, text\n",
        "from keras.callbacks import EarlyStopping\n",
        "import nltk\n",
        "from nltk import word_tokenize\n",
        "from nltk.corpus import stopwords\n",
        "nltk.download('stopwords')\n",
        "stops = set(stopwords.words(\"english\")) | set(stopwords.words(\"russian\"))\n",
        "from sklearn.metrics import mean_squared_error, accuracy_score\n",
        "import re\n",
        "!pip install pymorphy2\n",
        "import pymorphy2\n",
        "morph = pymorphy2.MorphAnalyzer()\n"
      ],
      "execution_count": 7,
      "outputs": [
        {
          "output_type": "stream",
          "text": [
            "[nltk_data] Downloading package stopwords to /root/nltk_data...\n",
            "[nltk_data]   Package stopwords is already up-to-date!\n",
            "Collecting pymorphy2\n",
            "\u001b[?25l  Downloading https://files.pythonhosted.org/packages/a3/33/fff9675c68b5f6c63ec8c6e6ff57827dda28a1fa5b2c2d727dffff92dd47/pymorphy2-0.8-py2.py3-none-any.whl (46kB)\n",
            "\u001b[K    100% |████████████████████████████████| 51kB 2.5MB/s \n",
            "\u001b[?25hRequirement already satisfied: docopt>=0.6 in /usr/local/lib/python3.6/dist-packages (from pymorphy2) (0.6.2)\n",
            "Collecting dawg-python>=0.7 (from pymorphy2)\n",
            "  Downloading https://files.pythonhosted.org/packages/6a/84/ff1ce2071d4c650ec85745766c0047ccc3b5036f1d03559fd46bb38b5eeb/DAWG_Python-0.7.2-py2.py3-none-any.whl\n",
            "Collecting pymorphy2-dicts<3.0,>=2.4 (from pymorphy2)\n",
            "\u001b[?25l  Downloading https://files.pythonhosted.org/packages/02/51/2465fd4f72328ab50877b54777764d928da8cb15b74e2680fc1bd8cb3173/pymorphy2_dicts-2.4.393442.3710985-py2.py3-none-any.whl (7.1MB)\n",
            "\u001b[K    100% |████████████████████████████████| 7.1MB 5.0MB/s \n",
            "\u001b[?25hInstalling collected packages: dawg-python, pymorphy2-dicts, pymorphy2\n",
            "Successfully installed dawg-python-0.7.2 pymorphy2-0.8 pymorphy2-dicts-2.4.393442.3710985\n"
          ],
          "name": "stdout"
        }
      ]
    },
    {
      "metadata": {
        "id": "AEPv590Yvryo",
        "colab_type": "code",
        "colab": {
          "base_uri": "https://localhost:8080/",
          "height": 51
        },
        "outputId": "8665ea48-65eb-4615-a492-f2e28874908b"
      },
      "cell_type": "code",
      "source": [
        ""
      ],
      "execution_count": 3,
      "outputs": [
        {
          "output_type": "stream",
          "text": [
            "Requirement already satisfied: nltk in /usr/local/lib/python3.6/dist-packages (3.2.5)\n",
            "Requirement already satisfied: six in /usr/local/lib/python3.6/dist-packages (from nltk) (1.11.0)\n"
          ],
          "name": "stdout"
        }
      ]
    },
    {
      "metadata": {
        "id": "UznvQpCEknbX",
        "colab_type": "code",
        "outputId": "2d65c3f1-c733-4e0e-d421-692e9c1e7418",
        "colab": {
          "resources": {
            "http://localhost:8080/nbextensions/google.colab/files.js": {
              "data": "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",
              "ok": true,
              "headers": [
                [
                  "content-type",
                  "application/javascript"
                ]
              ],
              "status": 200,
              "status_text": ""
            }
          },
          "base_uri": "https://localhost:8080/",
          "height": 86
        }
      },
      "cell_type": "code",
      "source": [
        "from google.colab import files\n",
        "\n",
        "uploaded = files.upload()\n",
        "\n",
        "for fn in uploaded.keys():\n",
        "  print('User uploaded file \"{name}\" with length {length} bytes'.format(\n",
        "      name=fn, length=len(uploaded[fn])))"
      ],
      "execution_count": 8,
      "outputs": [
        {
          "output_type": "display_data",
          "data": {
            "text/html": [
              "\n",
              "     <input type=\"file\" id=\"files-a4fb3b3a-c89d-4ad4-a020-367db8c68fef\" name=\"files[]\" multiple disabled />\n",
              "     <output id=\"result-a4fb3b3a-c89d-4ad4-a020-367db8c68fef\">\n",
              "      Upload widget is only available when the cell has been executed in the\n",
              "      current browser session. Please rerun this cell to enable.\n",
              "      </output>\n",
              "      <script src=\"/nbextensions/google.colab/files.js\"></script> "
            ],
            "text/plain": [
              "<IPython.core.display.HTML object>"
            ]
          },
          "metadata": {
            "tags": []
          }
        },
        {
          "output_type": "stream",
          "text": [
            "Saving train.csv to train.csv\n",
            "User uploaded file \"train.csv\" with length 149556868 bytes\n"
          ],
          "name": "stdout"
        }
      ]
    },
    {
      "metadata": {
        "id": "XiZFkUJ5khHW",
        "colab_type": "code",
        "colab": {
          "base_uri": "https://localhost:8080/",
          "height": 34
        },
        "outputId": "142e6867-0ed1-4139-f0bf-2f39478c83fd"
      },
      "cell_type": "code",
      "source": [
        "df = pd.read_csv('train.csv')\n",
        "def clean(text):\n",
        "    \n",
        "    text = re.sub(\"[^а-яА-Яa-zA-Z]\",\" \", text)\n",
        "    words = text.lower().split()\n",
        "    words = [w for w in words if not w in stops]\n",
        "    words = [morph.parse(w)[0].normal_form for w in words ]\n",
        "    return(words)\n",
        "  \n",
        "for i in tqdm(range(len(df))):\n",
        "    df.iloc[i]['text'] = clean(df.iloc[i]['text'])\n",
        "\n",
        "df.sample(frac = 1, random_state = 42).head()\n",
        "df.to_csv('clean.csv', sep=';', encoding='utf-8')"
      ],
      "execution_count": 11,
      "outputs": [
        {
          "output_type": "stream",
          "text": [
            "100%|██████████| 3485/3485 [27:41<00:00,  1.20it/s]\n"
          ],
          "name": "stderr"
        }
      ]
    },
    {
      "metadata": {
        "id": "j-JHY7hJkhHb",
        "colab_type": "code",
        "colab": {}
      },
      "cell_type": "code",
      "source": [
        "\n",
        "clean_df = pd.read_csv(\"clean.csv\", sep=\";\")"
      ],
      "execution_count": 0,
      "outputs": []
    },
    {
      "metadata": {
        "id": "fEcBsG_PLWhc",
        "colab_type": "code",
        "colab": {
          "base_uri": "https://localhost:8080/",
          "height": 102
        },
        "outputId": "9041968a-fb24-4f26-925c-6342b17cdd99"
      },
      "cell_type": "code",
      "source": [
        "def clean2(string):\n",
        "    string = ''.join(c for c in string)\n",
        "    spliced = string.split(' ')\n",
        "    string = ''.join(word + ' ' for word in spliced if len(word) > 3 )\n",
        "    return string[:-1]\n",
        "\n",
        "for i in range(len(df)):\n",
        "    df.iloc[i]['text'] = clean2(df.iloc[i]['text'])\n",
        "    \n",
        "df.to_csv('clean2.csv', sep=';', encoding='utf-8')"
      ],
      "execution_count": 0,
      "outputs": [
        {
          "output_type": "stream",
          "text": [
            "/usr/local/lib/python3.6/dist-packages/ipykernel_launcher.py:9: SettingWithCopyWarning: \n",
            "A value is trying to be set on a copy of a slice from a DataFrame\n",
            "\n",
            "See the caveats in the documentation: http://pandas.pydata.org/pandas-docs/stable/indexing.html#indexing-view-versus-copy\n",
            "  if __name__ == '__main__':\n"
          ],
          "name": "stderr"
        }
      ]
    },
    {
      "metadata": {
        "id": "ZgcPVARRNAvY",
        "colab_type": "code",
        "colab": {}
      },
      "cell_type": "code",
      "source": [
        "df = pd.read_csv('clean2.csv', sep = ';')"
      ],
      "execution_count": 0,
      "outputs": []
    },
    {
      "metadata": {
        "id": "T2f9hlByNK7V",
        "colab_type": "code",
        "colab": {
          "base_uri": "https://localhost:8080/",
          "height": 54
        },
        "outputId": "7b620278-bea3-4688-af60-b25945e34f01"
      },
      "cell_type": "code",
      "source": [
        "df['text'][0]"
      ],
      "execution_count": 55,
      "outputs": [
        {
          "output_type": "execute_result",
          "data": {
            "text/plain": [
              "'страницабумажныйверсияномеригорьпавлоравтормногочисленныйстатькнигагуманитарныйпрофильосновнойнаучныйинтерессосредоточитьтеорияисторияжитьконстанцагерманиясанктпетербургcкоротатьраспадбориспастернакстрахвырождениеодинконстантамирвыстраиватьчеловеккраеугольныйпунктсоциокультураневерныйусматриватьпервопричинастрахфизиологиядряхлениеиндивидуальныйорганизмоновосполнитьпродолжениеродстарениедолжныйбеспокоитьлишьбиологическийособьоднакозаботитьсясохранениежизньпотомствоодинмоментпоявлениеземляhomosapiensпечьсяумершийухаживатьмогилаучреждатькультпредоксвойотчуждённостьприродачеловекжаждатьпопастьсугубомыслитьреальностьтудаотсутствоватьфизическипребываниедвояконеадекватныйбытьсоположитьприходитьсменактосветпоэтомувсякийновыйначаловидетьсяконецрождениесмертькоторыйпартиципироватьподдерживатьсвязьуйтипоколениеэросчеловекпримешиватьтанатосдавноуказатьсабинашпильрейнстатьядеструкцияпричинастановлениежоржбатайпредисловиемадамэдвардпроцесснаследованиеобратитьбудущеепрошлоевкрадыватьсяфундаментальныйнехваткапередачажизньстаршиймладшийоказыватьсяненадёжныйчеловеческийвитальностьпостоянноугрожатьистощениевыходкризисотыскиватьсяпочитаниепредоксопровождатьсяверазагробныйсуществованиеопасностьвырождениепобиватьсяидеявозрождениепроисходитьинобытиеумершийпризнаватьсяправопотустороннийжизньсберегатьсяпамятьобществоcоуправлятьпреданиесоциокультураиметьсотериологическийцельэтотзадачапоставитьиспытыватьчеловектревогародовойучастькоторыйгрезитьсявозможностьупадокпобедасмертьголовнойпродуктсвойвосстаниепротивестественныйположениевещийчеловекпродолжатьнарастаниепроизведениеискусствобытованиекоторыйнасчитыватьпримернотысячагодприступитьхудожественныйтворчествомузыкальныйскульптурныйживописныйдинамизироватьусложнитьдвареальностьнадстраиватьодинприродныйувидетьиметьсуверенныйправоустроительискусственныйсредапринятьразныйэстетическийформаодинаковозиждительныйритмическийорганизацияpoiesisтолковатьсячеловексодержаниеджорджоагамбенаиначеговоритьрегулярныйпоследовательностьсильныйслабыйпозицияэмфазаинтервалониподъёмспадискусствосразурановойтичеловеческийобиходявитьмыинструментпосредствомкоторыйдегенерациярегенерациясбалансироватьструктурныйединствоупразднятьантагонизмискусствобесстрашнолицовырождениелишатьединодержавныйвластьделатьуправляемыйставитьконтрольпозднийэтобесстрашиевыразитьсясредипрочееникакойхудожественныйтекстгарантироватьснижениепародияпомнитьсвойукорененностьэстетикасоциокультурацелоебоятьсявысмеиватьпрофанироватькарнавалпраздничныйпрозябаниетотмерачеловекпитатьвоображениеисторичныйсопричастныйэмпирическийпотоксобытиесконструироватьсамотвлечениедегенeративныйрегенеративныйвремячеловексвойственныйвечныйисторизмджованниджентилвродитьидеяисторияробертджорджколлингвудвоскрешениеотцоввсегдашнийделокоторыйниколайфёдоровнапрасноотодвинутьжеланныйбудущеенеизбывныйисторичностьследоватьотличатьтотособыйсформироватьсясравнительнонедавнотысячагодтотназадпериоднеолитическийреволюцияпереломныйсоциокультурныйисториястатьпредставлениенуждатьсяспасениеменееносительсовершитьсяходнеолитическийреволюцияпревращениеприродааграрныймашинавосстанавливатьприплодотдаватьпереработкаорганическийматериалозначатьнатурализациялишьмыслитьпустьвоплощатьартефактпревозмоганиеупадокимагинативныйисторияобъявитьсяконкурентсоздатьчеловекбиофизическийвремяпуститьсядвижениеговоритьслововладиславходасевичпутёмзернообрестисоперникментальныйусилиепредотвращениевырождениеобнаружитьнедостаточностьчастноопределенностьсноваполноценныйсделатьсямифоритуальныйдействиепотребоватьпроведениеспасительныйоперацияисторияперестатьсамсебяразуметьсяперейтиразряднашосознанныйдостояниенаписатьвскоредвамировойвойнакнигамифвечныйвозвращениемирчаэлиадабезоговорочнопротивопоставитьритуальныйлинейноисторическийвремясочувствоватьфашизмавторитаризмэлиадавряддовольныйпослевоенныйизменениеевропаответявитьсяaпологетизацияритуальныйповторустранятьисторияобеспечиватьнепреходимостьнастоящийэлиадаистолковатьобрядовыйцеремониявоссозданиемиротворениеисходныйхаоссвойповторяемостьритуалэлиадабытийныйнеотменятьсообразноэтоонтологизмориентироватькосмическийкруговоротчередоватьнарастаниекатастрофичностьновыйначалоопубликоватьпозднийстатьяритуалвведениепроблематикавладимиртопоровпринятьобщийчертаконцепцияэлиадасказатьсуждениеархаическийобществозаражатьсясвойпредметповторяемостьсамритуализоватьсяобаисследовательупуститьвидважныйобстоятельствовоспроизводитьдемиургическийактархаическийобрядпридаватьисториянекийабсолютныйсмыслкромебытиеоставатьсяникакойинойкачественныйизмерениеритуалстолькооппонироватьлинейныйвремясколькоциклизоватьзаконсервироватьувековечитьпереходхаоскосмосмифоритуальныйобществосверхисторичноразыгрыватьсявоображениеисториякоторыймочьвозникновениеаграрныйтрудиссякнутьнесовершенствопредохранятьсяэнтропийныйразвитиепомощьколлективныйтеургиявыкликаниепервособытиепрошлоеритуалотелесниватьисториявписыватьсякосмическийпорядоксниматьмаксимумразницафизическийментальныйпотерятьомнипотенциядобыватьсявновьсоюзумозрениечувственновосприниматьреальностьмифнеотрывныйобрядовыйдрамаявлятьсебярассказпроисхождениекоторыйнесмотряфантастичностьвоплотитьсоциальныйпрактикаритуалодухотворятьтелонаполнятьсясимволическийзначениесамприноситьсяжертвакоторыйинкорпорироватьпрохождениеколичественноубыватьколлективдегенeративныйфазарассматриватьнеобходимыйусловиевыживаниепродуктивностьжертвоватьплотьизбранникчленгруппаподвергатькалечениеобязательныйобрядинициацияскольуспешныйоказатьсяпродержатьсятысячелетиестратегиямифоритуальныйсоциумчреватыйвнутреннийпереворотоднонаправитьвремяподдаватьсяциклизацияциклуступитьместодругойподчинитьсялинейностьпостритуальныйисторичностьвызреватьзамещениепримарныйсоциокультурныйупорядочениемирсекундарныйабсолютныйнеолитсовершитьсянавсегдаисторияследующийшагничтоинойкромесужениесвойобъёмгенезисзаведомоущербныйсличениепредшествоватькосмогоническийпредставлениестолькоонтологичныйсколькоантропологичныйэпистемологичныйсвойдваистокисториябратьобращатьсятворениесотворитьбытиесубъектвзыскующийзнаниеповествованиегильгамешбиблейскийрассказгрехопадениеадамевапирплатонпроигрыватьпредшествоватьэпохаохватразуметьвытеснятьпериодвыигрыватьсодержательнососредотачиватьсяпроисходитьпостижениесущийсамопостижениечеловекпродолжительностьжизньветхозаветныйпатриархсокращатьсяпоколениепоколениеэкстенсиональныйуронслучаетсятотпричинаадамевалишитьбессмертиевкушениезаповедныйплоддревопознаниедальнейшийобеспечитьнаследникбиблейскийпророкспособностьпровидетьбудущеерасполагатьвсеполнотаисторическийкомпетенцияпирзевснаказыватьдвуполыйчеловекhybrisпокушениебожественныйпрерогативаразрубатьпополамумалятьобъёмоткудапроистекатькогнитивныйпотребностьчеловекнайтиразличительныйэротическийустремлениепотерянныйполовинадиалогплатонполитиккосмоспребыватькруговоротменятьвектордвижениеобратныйотчеговселеннаяпогружатьсяхаосчеловечествочахнутьисчезатьдемиургвосстанавливатьнарушитьпорядокудалятьсяделопредоставлятьчеловеквозможностьсамоустроениеэтотусловиепозициякоторыйнаходитьсяпастырьбытиезаниматьглавагосударствообязыватьплатонвладетьискусствоискусствоумениеправитьчеловеквесьсвойсфабулированностьплатоновскийдиалогточнопередаватьсущностьпреобразованиегрянутьзавершениекосмогоническийисториясоциокультурныйпрактикапреемственностьтянутьсядемиургвластительмочьварьироватьсявыступатьвидосободоверительныйотношениевождьнародвсемогущийслучаймоисейобразбожественныйцарьдвуречьедревнийегипетприходитьсяпериодизобретениегрекфилософияпредполагатьзаменитьмифэквивалентныйбожественныйзнаниеинтенсионалявленныйназватьплатонэйдоситакфилософиярелигиозныйсистемареинтерпретироватьритуалпереводитькосмогоническиймагиятеоантропософияисторическийизменениекомпенсациявырождениеучинитьобновительныймероприятиетакойуголзрениеисториянаноситьсоциокультураповреждениекоторыйсамисправлятьпустьрепродуцируемостьмиротворениеотступатьзаднийпланпустьиностановлениебытиенедопустимыйобинякговоритьсяполитикаменеевоспроизводитьприобщенностьчеловеквысокийценностьчислокогнитивныйавтокоррекциянавсегдаостатьсяважныйоперацияпроводитьисториятрансцендентальныйсвойсущностьциклобразоватьпоследовательностьзначитбылойлинейныйвремяподдаватьсявозвращениепредусматриватьстароеразвитиесобытиепереиначитьповторнеобратимостьтаковпаралогическийподоплёкаисторическиймиссиявзятьхристианствоглавныйидеярелигиозныйпроектзаключатьсярекреациявозможныйнеизбежныйчтослужитьдоказательствоискуплениесынбожийдовлетьчеловекродовойпроклятиевоскресениехристосупразднятьобречённостьтанатосветхийадампопраниехристоссмертьсмертьуникальновместеуниверсальнообещатьскончаниемирсейвсеобщийвосстаниетлендуховныйполагатьтeртуллианiiiiiвекплотьхристианствовпадатьтрудноразрешимыйпротиворечиевызыватьбытиекольскорооновсевременноиметьдваидтидругойотправнойпунктнеувязказанятыймысльгригорийбогословivвекпервоесловобогсыннейтрализацияпротиворечиедостигатьсясчётновыйнебоновыйземляпредназначатьсяявитьсяпослевременностьнеисторическийбудущеебудущееисторияпротекатьодинвтороепришествиехристосфинальныйинойпредысторияцарствобожийуказыватьлишьпосредническийхристианскийрелигияфункциятекущийвремягертмельвиллеписатьсвойнезначимостьонововсепозволятьприменятьпонятиеупадоккоторыйпридатьисторияхарактерсаморазвивающийсяпомимочаяниевозлагатьпарусиеэтоположениесогласитьсяхристианскийвосприятиеэмпирическийисториядвусмысленныйсуетныйакцидентальныйвопрекитотпредвещатьнаступлениеахрониивеликоепокойодинсторонаhomohistoricusпереживатьобразецкрестныймукахристоснепрерывныйагонияпрогрессироватьизбавлениебренностьтертуллианаподобатьбоятьсяпогибельтеловоскресениеплотьоригенрассуждатьтрактатначалоiiiвекнизведениесуществовысокийсостояниенизкийвидимыйпредшествоватьосвобождениечадбожийтелесныйрабствохристианскийсознаниеисключатьподавлениеодиндваприсущийактуальныйвремяначатьдругойстагнациябратьгригорийнисскийустроениечеловекгодверхприближениеидеальныйбудущеетварнойсуществорасторгатьсродствотворецобезобразитьстрастьтелозаслонятьсебяумсопрячьбожественныйлогоспротивоположностьэтомонашескийподвигусмирятьплотскийвлечениепрокладыватьпутьпребываниеидеальныйсостояниедаватьподвижниквозможностьпосвятитьинтеллектуальныйтрудпозднийсредневековьеxivxvвекзападныйвосточныйхристианскийцерковьпривнестидвусмысленностьисториякоторыйпролегатьсозиданиебытиеинобытиерадикальномистическийдиалектикпредписыватьчеловекусилитьсаморазрушениекаковойудатьсястатьсопричастныйвсевышнийпроповедьевангельскийизречениеблаженныйнищийдухмайстерэкхартпризыватьпастваотрешитьсялюбойзнаниедабапредоставитьостатокраспоряжениебоггригорийпаламтриадазащитасвященнобезмолвствоватьсоучастиепреображениегосподнийдароватьсятотпрекращатькакойобщениетварнареальностьсочинениеподражаниехристосфомакемпийскийвосславлятьотверженныймиркоторыйумиратьдабаотдатьсяволябожийкачествоканунгрядущийстрашныйсуднастоящеесочетатькульминацияпокаисторическийвремясхождениеоткрытьсяхристианствосмыслисториясостоятьупиратьсянеисторияцелеположенностьхристианствопрограммироватьлюбойдальнейшийнововременностьмнитьпоследнийсловоисторияведатькаковбудущееопрозрачниватьсредневековыйэсхатологизмпредсказыватьdefactoмодернистичностьложитьсяосновановоевремяточнееновыйвремяпонятнопочемухристианствонеустранимыйисторизоватьсоциокультураскрытноприсутствоватьвызывающеобмирщятьсякенозисхристоссотериологическийожиданиепросвечиватьпримеристорияклассовыйсознаниетрудкоторыйгеорглукачрекомендоватьпобедоносныйпролетариатпредатьсясамокритикаборьбасебядабасоответствоватьскорыйприходбесклассовыйобществосталинвнятьэтосоветввестинормапредкоммунистическийтоталитарныйгосударствопериодическийчисткаправящийверхушкаантиципироватьсредневековьенововременностьдобитьсясуверенитетконецxvxviвекпредпосылкавхождениемодернистичностьэпохальноузаконитьправоявитьсяпредпринятьренессансныйсознаниесовмещениецикличностьлинейностьнеразрывныйсинтезнапрашиватьсяввидупрежнийвзаимоподстановкакоторыйвтянутыйпостоянныйсоциокультурныйвремянеобратимостьповторповторнеобратимостьренессанспридатьпоступательныйисториянеотличимостьстановлениебытиерождениетакойпорядоккоторыйдопускатьвсеохватностьникакойинойдинамикакромевозвращениекругсвоймиротнынетворитьсянастоящийкаждыймоментнаступатьвремяhomodeusцентральныйфигураренессансоколичностьвывестиисторическийавансценакнигаджорданобруногероическийэнтузиазмшарльдебовельмудрецутверждатьчеловеческиймикрокосмвмещатьвселеннаязеркальноотражатьречьдостоинствочеловекджованнипикийделламирандолсближатьадамдемиурготводитьпервочеловекрольсуществоотпуститьсвободасамосозиданиемарсилиофичинotheologicaplatonicaопределятьчеловеческийдушитькачествоскреплятьсебясразуконецбытьначалоопровергатьфичинофинализмсредневековыйисториософиядушитьспособныйтакойобраздвижениеобращатьделатьавторефлексивныйумопостигаемыйвозводитьступеньдухвселенскийинтеллектhomodeusвсеведущийубеждениеренессансныймыслительисторияразвязыватьбожественныймиротворениепрототипичныйсмертныйкоторыйсчитатьфранческопатрицидесятьдиалогисториямочьпоэтическийдарвоспроизводитьcreatioexnihiloвозрождениепустьоченьчастохристологичнонаделятькаждыйактивныйучастникисторияпривилегиявосприемникбоготецбезудержныйоднакораспространитьсяконецсредневековьеверачеловеквырождениеоказатьсярелевантныймотивоновыступитьоборотныйсторонойвозрождениенепременныйдополнениеонбрунопричинаначалоединыйединствомирозданиеозначатьотдельныйвещийустремлятьсявсеобщностьдолжныйнарушатьсамотождественностьввергатьсяискажатьсущностныйчертамонструозныйнехватканеизбежныйпотерясобственныйместорядпрочийреалиявозникатьсогласноренессансныйвоззрениесновасновабытиезакономерновбиратьинобытиерезультатонототальновсеизменчивыйнастолькоцеликомобратимыйантитезапредрасположенныйрасстройствосвойгармоническийорганизацияпоэтомуренессанслицомонтенитьпроникатьсядобавкаобожествлениечеловектакжескепсисотношениеонпоказыватьнепостоянствонесовершенствосетоватьсочетаниенемойдостоинствонедостатоксомневатьсядостоверностьсуждениекоторыйвыноситьодинтомопытвыйтисветгодглупостькоторыйвыставлятьпосмешищеэразмроттердамскийсебастианбрантдругойавторстольповсеместныйренессансглорифицироватьумренессансныйоптимизмобручныймеланхолияпарализоватьактивностьсубъектнастроениекоторыйвызыватьсяумозаключениеравновеликостьальтернативаизбежатькрахвынашиватьиндивиднамерениесправитьсяразладсоциальныйвзаимодействиекаковусловиенеобходимыйvitamiseraотброситьпрошлоезадачакоторыйставитьсебяренессансныйавторискатькрайнийрешениесоответствующиймаксималистскийподходпереживатьсовременностьвластьускользнутьрукаправительперестатьполагатьсязаконприбегнутьчрезвычайныйсредствонасилиенаставлятькнязьмирсейникколомакиавеллигосударьутопиятомасморпротивопоставлятьизображениеидеальноустроенныйгосударствокартинадегенерироватьпоследнийстепеньординарныйобществокоторыйцаритьвзаимоотчуждениечленпоголовныйинобытийностьперевестисоциальныйплоскостьвыдвигатьчислоособозначимыйценностьтакойкатегорияmemoriaренессансстаратьсяуберечьупадокнарядунастоящеепрошлоепреждедохристианскийоборонительныйработаосуществитьренессансразнитьсяхристианскийсотериологияукоренитьпосюсторонностьприниматьвидвыполнимыйинструкцияполитологиямакиавеллименьшиймерадетальнопродуматьрасчётсоциальныйпреобразованиебудущеемногочисленныйxviвекутопиямоделироватьвовсенебесныйиерусалимcivitasterrenaвозрождениеглубинасвойсамозащитасоциокультуравырождениеудатьсяраспознатьфридрихницшеувидетьэпохаобразецпреодолениедекадансассоциированныйхристианствовойтипочинвозрождениеполосанововременностьсоциокультурныйисторияxviixxвекявитьсебясоревнованиеразныйпоследовательноопробыватьспособабсолютизироватьнастоящеевсякийпопыткавыливатьсязавоеваниесегодняшнийденьjetztzeitисторикофилософскийтезисвальтербеньяминабудущеевоображатьпредречьпрошлоекоторыйподпадатьдиктаттекущийвремястановитьсяожиданиенесходствосменятьсяновыйвремяобусловливатьсякаждыйпредлагатьсвойоригинальныйпланкасательноудержатьисторияловушканастоящийустанавливатьбезраздельныйгосподствоэпохальныйсознаниенекийумозрительныйоперацияподавлятьпрочиймыслительныйдействиеполучатьсамыйбытийныйстатусонтологизировавшийсянесмотрявариативностьоперациятакойродинвариантныйнацеливатьсянейтрализациядругойсовпадатьданныеcoincidentiaoppositorumбароккодистанцированныйсохранятьидентичностьданныйпросвещениесообщатьвесьсущийвозможностьвыходиррефлексивныйсостояниеромантизмпревращатьсяподобиебратьсяточкаотсчётреализмдваполовинаxixвекокутыватьнеопределённостьсоциокультурахгодсимволизмподлежащееискоренениеавангардтоталитаризмместоразвёртыватьаргументироватьбеглонаметитьдиахроническийсхемаважныйподчеркнутьэпохальныйисториявзятьстартнеолитсложныйсодержаниемногосоставныйобъёмпримитивныйчленениеархаикамодернпостмодернизмкоторыйобычнонынешнийинтеллектуальныймодасовременностьвозвышатьсясвойсотериологическийзначимостьнеуклонныйвырождениеотождествлятьсяпрошлоеисториякоторыйобрисовкатомасгоббсугрозагибельныйдегенерацияостанавливатьформированиегосударстводовлетьвступительныйестественныйэтапобщечеловеческийисториякоторыйвестивойнавесьотвечатьбарочныйпринципсмыслообразованиелевиафанвысказатьэтоположениегаситьнепримиримостьвозникновениеисчезновениепредельноархаизироватьгенерализоватьгоббсвырождениеперевоплотитьсявекпросвещениеисторическийконкретностькаковойсудьбаримскийимперияконцепциявыдвинутьмонтескьразмышлениепричинавеличиепадениеримлянастагнацияримнепрерывнонарастатьмоментгородпереступитьсвойграницапринятьсяпокорятьсоседнийобластьсобственныйинтерескоторыйпривнестиразноголосицараздорранеесолидаризоватьобщественныйжизньпоражениезападныйримскийимпериявизантиявнешнийврагточказрениемонтескьследствиевнутреннийконфликтпостоянновозобновлятьсяобагосударственныйобразованиенародрасшатыватьравенствосамыйлогикапросвещенческиймышлениенаслаждатьсяукреплятьсяблагополучиеэдуардгиббонисторияупадоккрушениеримскийимперияпримерпредшественникуверенныйвторжениеварваруничтожитьсамыймогущественныйгосударствоантичностьоноослабитьизнутрикризисответственностькоторыйлежалыйхристианамонотеистподорватьвероисповедальныйтерпимостьязычествочаятьмировойпожарскорыйприходтысячелетнийхилиаcтическийцарствоготовыйпринятьсмертьбылойсовременностьтакжебыватьпросвещениеподверженныйпорчачастностьслучайдостижениецивилизациявмешиватьсядругойприродаразрушительныйвольтерписатьстихпосвятитьлиссабонскийземлетрясениеviceversaпостулироватьистиначеловекпринадлежностьприродаруссосетоватьобщественныйдоговороскудениенатуральностьсопровождатьнакоплениесоциокультурныйопытпросвещениевовсеотказыватьсясчитатьсяordonaturalisприуменьшатьрелевантностьестественныйсредасвойумозаключениеприродапоставитьпрепонасаморазвитиеразумобъявлятьмаркиздекондорстрактатдуховныйпрогрессчеловечествозадачаисториясформулироватькантответвопростакойпросвещениезаключатьсявывестичеловекнезрелостькоторыйзадержатьсясобственныйвинанаправитьпутьсовершенствованиепрогрессизмпросвещениеувековечиватьгрядущийкоторыйсовременностьдобиватьсяокончательныйтриумфисполнениесвойзамыселпринятьmutatismutandisновообразовавшийсяментальныйансамбльэволюционироватьxixвекромантизмреализмпозитивизмбесперебойныйромантизмотправканастоящийпрошлоенайтигегелевскийфеноменологиядухаллегорическийобобщениефигурагосподинзавоеватьвластьборьбажизньсмертьопуститьсябездеятельностькоторыйпозволитьотнятьвысокийпозициякнехтзавершительисториязиждитьсяпредположениенесовпадениесебяявлятьсясветромантизмхотяотрицатьпрогрессменееподозреватькаждыйшагвероятностьрегрессистощениеэнергияпродвигатьисториявперёдэтотпротиворечивостьвосходящийсоциокультурныйисториясниматьсягегельтотархимедовыйточкаисступатьсвойпроизводительностьсознаниевозвращатьсясамопостижениечертамножитьсясовременностьромантизмвидетьсянепреходящийреальностьспорыйраздробитьромантическийфилософиявестисьосуществитьсяосвобождениечеловекзачёркиватьпоступательныйдинамикатрудгегельисторияпреодолеватьсямодельфичинoпогружениедухшопенгауэрмирволяпредставлениегоризонтвремямаячитьпустойничтокоторыйжеланиеподразумеватьнехваткастановитьсяадекватныйсвойнеутолимостьhomohistoricusчейволевойактразыгрыватьсясовременностьжаждатьубитьвремянеизбежнопопадатьпленаскукавыродитьсядолжныйидеяшопенгауэрподчинитьевропейскийфилософиявосточныймудростьсамисторияначинатьхгодпрогрессчеловеческиймирприобретатьсходстворазвитиенаблюдатьприродааналоговыймышлениевозобладатьпорареализмпозитивизмпревосхождениесоциокультурапрошлоедуховносубстанциальныйотчегопроцессвеститрансцендентныйитогвеществобессильноотменитьсамограничиватьсярекомбинацияматериальныйэлементдифференциацияинтеграцияпостулироватьгербертспенсеродинсинтетическийфилософияопубликоватьгодпосколькуультимативныйдругойвыпадатькругозорпозитивистпостолькууходитьпрошлоепониматьсяонизадерживатьсянастоящийанахронизмобновительныйустареватьсмешиватьсядиалектическийманерромантизмвыступатьборотьсядругдругодинхронотопвластьисторияпрогрессрегрессоказыватьсявесьантагонизмодинаковонасущныйпроблемаосознаниесовременностьпреждевырождениепривлекатьстольковниманиедваполовинаxixвекдегенерацияприсутствоватьсегодняшнийдействительностьтотмерапередаватьсясюданеблагополучныйпрошлоенаследственныйлиниябиологическийпутёмтаковтезисбенедиктогюстморельтрактатфизическийинтеллектуальныйморальныйдегенерациячрезвычайновлиятельныйсвойденьподхватитьсредипрочийавторчезараломброзокриминологическийучениеврождённыйиндивидсклонностьпреступныйповедениепреступныйчеловекфрагментнастоящийотставатьразвитиеостальнойслагаемоеиндивидныйгенетическиобусловитьаномальностьмочьстрадатьтакжефизиологическийтипчеловекименнопозитивизмпускатьсяросттеорияразграничитьвысокийнизкийрасауравнятьпсихическийфизиологическийцеребральныймеханизмлюдвигбюхнерсиламатерияотнестинегрполуживотныйсуществодоводмозгнаселениечёрныйафрикамаленькийобъёминдивидныйкольскороонообособитьокружающийвзаимоподобиеэтоглавныймиметическиймировоззрениеочаграсстройствонаноситьущербнормареагироватьсредачеловекузнатьрефлексголовноймозгивансеченовпереживатьсумеречныйсостояниегорячечныйбредалунатизмдалеетотпричиназамыкатьсяпритупитьощутительныйспособностьмнениепетраткачевтакойпартияпрогрессвесьисторияниспадатьпоощрятьодининдивидущемлятьинойудовлетворениепотребностьсодействоватьсамыйсокращениежизньцельпрогрессприведениечленобществоодинзнаменателькоторыйрадикальнонастроитьтеоретикподразумеватьмалоравенствоорганическийфизиологическийкурсивавториндивидуализациявырождениенаукафилософиядваполовинаxixвекобъяснятьпочемуоносделатьсяпериододинсамыйчастыйхудожественныйповествованиебывшийсосредоточитьперсональныйсудьбапоэтомуохотнооткликнутьсятотинтерпретациякоторыйввестимодасмежныйдискурссвойчерёдпсихофизиологияиспользоватьнапримерработавладимирчиждостоевскийтургеневлитературадоказательныйбазасвойподходпатологияразличатьсообразностильвремядуховныйпродуктвнетекстовыйдействительностьупуститьвидразноречиекоторыйреализмпозитивизмпроникнутыйкаждыйпериодсоциокультурныйисторияоставатьсязаметитьнадеждапрогрессвсеобщийавтордваполовинаxixвекотсутствоватьпредставлениедругпохожийданныйнепосредственныйвосприятиевосхождениеполагатьсяконечныйлибоступатьсвойпоследнийрубеждальнейшийусовершенствованиеизлишнийбытьмаркскоммунизмпредсказатьвладимирсоловьевобъединениехристианскийцерковьсверхчеловекницшелибочреватыйнисхождениеполныйпотеряпитатьгенеративныйэнергияразрабатыватьдвакатастрофическиймодельпрогрессброшюравизантизмславянствоконстантинлеонтьевпреподнестивидуниверсальныйприродаобществоразвитиепроходитьобязательныйстадияпервоначальныйпростотацветущийсложностьвторичныйупрощениеозначатьресурспроцессизрасходоватьakmпозадипредохранитьгосударствоцивилизацияразложениесиладеспотизмформазаключатьлеонтьевсвойвыкладкаприподниматьзавесаскрытыйсмысллюбойдисциплинарныйнормативныйначинаниекоторыйизобиловатьчеловеческийисториявплотьорганизационныйтеорияххвекконсервативныйалександрбогдановвыдаватьреволюционныймыслитьпрогрессзавершатькатастрофаглашатайпозитивныйзнаниеделатьшагнавстречуумонастроениекоторыйохватитьсоциокультураграньxixxxвекпериодвойтиинтеллектуальныйисторияимяfindesicleхотяпростиратьсявплотьхгоддругойперестатьявлятьсебяаналогизвестныйскажеммарксизмнаходитьпрототипчаемыйкоммунизмпервобытныйобществоновоеподлежащееоткрытиеотныненесказоватьрасплывчатыйпередаватьнамёксимволпредпосылкаисториякоторыйрасточатьпринципиальнонедостаточныйнастоящийсвойвсегдашнийинновативныйпотенциалоднакоподразумеватьбезбудущностьнапротивгрядущийононеопределённыйоборачиватьсянебывалостьтаковойсовременностьпереходныйупадочныйвместепреисполнитьожиданиенекийбеспрецедентныйвзлётсегодняшнийденьбесперспективныйсозиданиеэстетическийкогнитивныйпрочийценностьпродолжатьсянесмотрядегенерацияпостичьсоциокультурныйпрактикамаксимальноотграничиватьодинпораближнийпрошлоесоциокультурахгодначалосвойпутьотстаиваниеправодекадентскийсторонаконтурдекадентствовыглядетьнеясныйсплошьболезненныйнуждающийсяизлечениеистерияисходxixвекдиагностироватьвырождениемакснордауотличатьпозднийреализмтворчествостадиальныйсоперничатьстаратьсяпреодолетьособеннояркийискусствоэтотворчествооднакоэстетическийфеноменусловиевыдыханиепозитивистскийнаукапсихофизиологиявыказатьповышенныйинтересстарениеорганизмисследоватьсенильностьильямечникпреминутьуказатьэтюдприродачеловекисторическийактуальностьсвойтрудсовременныйчеловечествопереживатьобщийнедомоганиенаукагипотезаанрипуанкарадекларироватьфизическийэкспериментизбавитьсистематическийошибкастаратьсязнаниебезусловнодоказательныйпроверятьопытнемойчервоточинаизначальныйэдипальныйкризисневозможностановлениеличностьобществоубеждатьсовременникзигмундфрейдтягасмертьtodestriebраспоряжатьсяфрейддушаравныйправолибидопатологиянормаотделятьсядругдругсколькострогораннийэтапидейныйсозреваниедекадентскосимволистскийментальностьприниматьсяпостепенноучащатьсявыстраиваниесмысловойконструкцияпризватькомпенсироватьнехваткаповсеместныйсовременностьпереиначиватьпросветительскийпозитивистскийпрогрессизмсергейбулгаковпредназначатьисторияоглядкафридрихшлегельраскрытиеабсолютныйразумзаложитьбожественныйпланвопроскакойименноспособоправдатьсяверапровиденциальныйсодержаниестатьябулгаковосновнойпроблематеорияпрогрессставитьтворческийэволюциярождениеинтеллектнепрерывныйбытованиежизненныйпорывпрогрессивнобольшийстепеньвестизаблуждениекольскороразумсвойдискретностьнеадекватныйпотокообразныйвитальностьанрибергсонориентироватьсякритикасознаниепровестишеллинговыйфилософскийисследованиесущностьчеловеческийсвободаоскудениежизньрациональныйподходвосполнитьбергсонинтуициякоторыйразумслитьсяинстинктисторияговоритьниколайбердяевлекцияпрочитатьгодудатьсяоснованиедуматьудаватьсяисториявнутрикоторыйсовершенствоэтонегативныйрезультатдоказыватьпутьиноймирзапредельностьближнийобразбердяевидентифицироватькомпенсаторныйприменительноупадокзакатевропаодинсочинениеосвальдшпенглерзавершитьгодвсякаячислоевропейскийдуховныйкультураобрекатьсяшпенглеровскийисториософияобнищаниетехническийцивилизацияисторияпоэтомуединыйцельпосколькуэтотцельотсутствоватьчеловексвободныйсновасноваинициироватькультуростроительствополучатькаждыйсобственныйидеяобогащатьсамыйдуховныйкосмосшпенглерзаявлениеникакойдряхлетьчеловечествопоколениепреодолетьсимволизмреабилитироватьпейоративныйоценитьсовременностьизбытокпростоотрицатьприписатьдефицитсчестьнеотменяемыйитогисторияпериодподходящийвынесениеподлежащееобжалованиеприговорчеловеческийсвершениеразительныйрасхождениеавангардтоталитаризмзаодноубеждениеименнопринадлежатьультимативныйправоподвестиисторияфиналпосюстороннийтриумфальныйздешнийдействительностьзаниматьтакойисключительныйпозициядругойпредставатьобразврагнапрасносопротивлятьсянововременностьсвойнепричастностьнеудержимодеградироватьтаковврагбыватьктоугодныйибоисключительныйточказрениекоторыйпроизводитьсяопознаниедовлетьконституированиедругойантагонистичныйдатьиметьсяобъективныйкритерийизгнаниеисторическийаренаобрекатьсязакостенетькастовостьаристократприслужникзагниватькапитализмрасовыйопределятьuntermenschгербертмаркузяодномерныйчеловекисторическийзначимостьутрачиватьпролетариатподкупитьработодательизобразительныйискусствоавангардквалифицироватьсянацистскийтоталитарныйэстетикадегенеративныйниспровергательскийпафосзащитникхудожественныйэкспериментклементгринбергбичеватьэпигонствофигуративныйживописьсоциалистическийреализмстатьяавангардкитчсоциокультураначатьсяхгодзеркальныйотношениесимволистскийнемощныйбалансироватьгранькрахтаитьобещаниевеликийбудущностьсверхполнотанастоящийскрыватьобстоятельстволюбойсоставлятьмочьобъявитьвыродитьсяоткудапрочитьпроистекатьстрахтоталитаризмзамаскироватьсявредительпонятиебытиесмертьмартинхайдеггерзамечательныйпрозорливостьсхватитьобобщениеподоплёкасвойвремясамоуверенныйонооднакоменеехотетьразоблачитьвручитьвластьтанатостоталитарныйрежимкоторыймнитьулучшатьпородачеловекнетерпимыйпсихофизическийпатологиябытьнацистскийэвтаназияпокаратьдушевнобольнойпослевоенныйудалениесоветскийгородкалькаособеннобросатьсяглазтелесныйповреждениезаключениескупойпримерслишкомсхематичнонаписатьстатьяпозволитькраткийпостмодернизмпокоритьпоследнийчетвертьпрошлоестолетиесоциокультурасвестипреждепостояннорелевантныйсотериологическийфункциясимволическийобменсмертьжанбодрийярпотребоватьочиститьтанатоссозначениепомощькоторыйчеловекизвеказащищатьсянейтрализоватьсямодернистразныйэпохадругойстатьпостмодернисттотсемантическийобластьутверждатьочутитьсяцарствоинаковостьтрансгрессивныйсознаниеотказатьсясоставлениефутурологическийсценарийвремяпределисторияспасениепретворитьсясугубыйдлительностьоткрытыйсегодняшнийденьгегелевскийдурнойбесконечностьстёртыйсогласнофилософияжакдерридначалоконецинаковыйсознаниеугасаниеосновоположныйсоциокультуракатегориятакойчеловексубъектавторсущностьдалееотнюдьзнаменоватьпопаданиетворческиймысльтупикстимулироватьпродуктивностьместоуниверсалистскийчеловековедениезанятьизучениеэтническийгендерныйсвоеобразиероковойстратегиябодрийяральтернативасубъектсделатьсясоблазнятьобъектавторкоторыйрасправитьсяроланбартмишельфуковариативностьимманентныйдискурсвозможностьпустьноумениллюзорныйсемантическийпроцесспрослеживатьповерхностьявленныйлогикасмыслжилитьделоиссякнутьнововременностьжелатьназыватьвырождениесобственныйимявсяческизатушёвыватьработафукоисториябезумиеклассическийэпоханадзиратьнаказыватьтакжеинспирироватьониисследованиерассмотретьприродапсихическийсоциальныйдeвиантностьсудьбарепрессивныйинституцияпосредствомкоторыйобществодобиватьсявластьнормапсихосоциопатияприобщенностьдругойпобуждатьпостмодернизмтакойобразсосредоточиватьсяоноподавлятьсяпрошлоепостмодернистскийвосприятиематериядолжныйизноспропагандироватьrecyclingинформационныйобществооставитьпозадииндустриальныйнадеятьсясовладатьотходпроизводстводомашнийхозяйствотеорияхаосбеспорядоктолковатьсясвойфрактальныйупорядочитьподдаватьсярационализацияговоритьпреобразованиекосмостакойосвещениеизлишнийсоответственногуманитарныйнаукаглавенствозахватитьпонятиеслучайностьпостмодернистскиймировидениенамечатьсярискдегенерациятотсферапротивостоятьсоциокультураприродакоторыйвследствиеуронпричинитьчеловекзапаспрочностьэкологическимыслящийавторнапримерджареддаймондкнигаколлапсмодифицироватьидтимонтескьлеонтьевшпенглеристориософскийтрадициявозложитьответственностьгибельобществонесоблюдениеонибаланскультурноцивилизационныйпрактикаестественныйокружениетакойродмодельупадоксвойдоляправдаделопокасуществоватьсоциокультурапреследоватьцельуступитьприродныйсредаконецпостмодернистскийидейныйреволюцияобозначитьсяегоднаходитьсяситуациякоторыйвынудитьрастранжиритьверадуховныймощьсоциокультуразаниматьсяпоискэрзацсотериологиязаведомоспособныйсвойбезыдейностьвозместитьпонестиутратабезопасностьобществокомфортабельныйжизнеобеспеченностькоторыйлюбамоментмочьпоколебатьтерактзаботитьсовременныйчеловекнежелиспасениедушазнаниеценныйсамлишьпостолькупосколькуспособствоватькарьерныйуспехобладательчтоприспосабливатьсяпрагматизировавшийсяуниверситетскийобразованиеверазачахнутьнастолькоуничтожитьсяверазнаниепатриотизмобольщатьмассапротекционизмвозводитьсяпринципгосударственныйполитикалишьвсеобщийспасениеоказатьсяневообразимыйспасатьсяприходитьсяврассыпнуюпартикулярныйпаническийманердепрессиястатьболезньвекиндустрияразвлечениенабиратьбольшойсилапропорциональныйрасширениепсихическийэпидемиякоторыйшоубизнессостояниесправитьсянегодностьпришлыйустройствогарантироватьинтеллектнеувядаемостьимяэтоустройстводуховныйисториясантиметрподробноленельлавастиназабытыйфашизмчоранэлиадаионескометрслlaignellavaszinecioraneliadeionescoloublidufascismeparisтопоровнашритуалвведениепроблематикаархаическийритуалфольклорраннелитературныйпамятникреденовикметрсравнитьlkweltgeschichteundheilsgeschehendietheologischenvoraussetzungendergeschichtsphilosophiestuttgartmelvillegzurgeschichtstheoretischenbegrndungeinesfehlendenniedergangsbewusstseinsimmittelalterkoselleckrwidmerphrsgniedergangstudienzueinemgeschichtlichenthemastuttgartмайклалленгиллеспатьсчитатьсвойстановлениенововременностьобязатькризиссредневековыйуниверсализмвызватьxivвекноминалистфиксацияединичныйэкземплярныйgillespiethetheologicaloriginsmodernitychicagolondonuniversitychicagopresspffмодернистичностьгиллеспатьисчерпыватьсясекуляризациясоциокультуравбиратьрелигиозныйкомпонентунаследоватьсредневековьедробныйобсуждатьрядработаговоритьсявыводимостьпоследующийэпохальныйпринципсмыслопорождениепредыдущийсантиметрнапримерплатапревращениесмыслметртеорияразвитыйшмуэльэйзенштадтнововременностьопределитьдваосевойэрареволюционнообновитьодинкоторыйознаменоватьсякарлясперсформированиеначинатьvвекнашэрамировойрелигияфилософиясущностьслучитьсяреволюциячеловекпредоставитьавтономияпорывтрансформацияобществоeisenstadtncomparativecivilizationsmultiplemodernitiesleidenbostonpartiipffсложитьсянововременностьразнообразныйэйзенштадтобъяснятьпреждеполяризациястолкнутьсостязаниедругдругцентрализованнохолистическийякобинскийдецентрализованноиндивидуалистическийпониманиецивилизационныйпроцессibidpразныйтипмодерностьвыстроитьсвязнойисторическийпоследовательностьбытоватьэйзенштадтконтингентныйрассеянностьвидскореесетьцепьотличиепервоеосевойвремякоторыйясперстрактоватьантропологическидвабратьсяэйзенштадтсоциальнополитическийизмерениеисторияединыйвесьмноголикостьсвойсоциальнополитическийманифестацияноуменальныйсердцевинаобщечеловеческийактивностьдиверсификациянововременностьразобратьсявникнутьэйдологияисториявообщеговоритьбароккосклонныйисторизироватькартинамирлейбництеодицеялишенностьвырожденностьдобровписатьпредустановленныйгармониякоторыйвовсеобладатьтемпоральныйкачественностьистокрасовыймифсравнитьнапримерstepannbiologicaldegenerationracesproperplaceschamberlinjegilmanledsdarksideprogressnewyorkpткачевплатанашкладезьмудростьроссийскийфилософметрсравнитьсторонавлияниелитературапрозабальзакморельpickfacesdegenerationeuropeandisordernewyorkcambridgeuniversitypresspсвязьтеориядегенерацияхудожественныйтворчествороссиясантиметрподробноусмановлитрдалеехудожественныйисканиерусскийпрозаконецxixташкентслниколозитьрвырождениесемьявырождениетекстгосподинголовлевфранцузскийнатурализмдискурсдегенерацияxixвекрусскийлитературамедицинателопредписаниесоциальныйпрактикаредбогдановдрметрниколозитьрпреступныйтипломброзорусскийлитературанарративныймодельизображениевырожденныйsicпреступностьатавизмроссийскийимпериягодновоелитературныйобозрениекатастрофическийдваполовинаxixвекбыватьисторикокультурныйфизическийкартинамирсвидетельствоватьгипотезатепловсмертьвселеннаяобоснованныйрудольфклаузисгодссылкадвазаконтермодинамикакоторыйпредсказыватьнарастаниеэнтропиязакрытыйсистемавостребованностьгипотезаискусствосменитьреалистическийсантиметрtattersallthermaldegenerationthermodynamicsheatdeathuniversevictoriansciencephilosophyculturehrmnmaanissenchedsdecadencedegenerationtheendstudieseuropeanfindesiclenewyorkpпонятиедекадентстворусскийматериалсантиметрподробноhansenlderrussischesymbolismussystemundentfaltungderpoetischenmotivewienbddiabolischersymbolismusffронныйдекадансзвездамечникакадемическийсобраниесочинениеметртомбердяевнашсмыслисторияопытфилософиячеловеческийсудьбаpariscкультурныйпессимизмфранкфуртскийшколасантиметрподробноhermanprophetendesniedergangsderendzeitmythosimwestlichendenkenberlinсравнитьнапримерrnerkbrgerundirrezursozialgeschichteundwissenschaftssoziologiederpsychiatriefrankfurtmainсантиметрthompsonrubbishtheorycreationdestructionvalueoxfordoxforduniversitypressgrassmuckvunverzagtcdassystemfrankfurtmainисторияконцептуализацияразныйформадепрессивныйсиндромсантиметрschaffnerkexhaustionhistorynewyorkcolumbiauniversitypress'"
            ]
          },
          "metadata": {
            "tags": []
          },
          "execution_count": 55
        }
      ]
    },
    {
      "metadata": {
        "id": "FXN8S33XkhHj",
        "colab_type": "code",
        "colab": {}
      },
      "cell_type": "code",
      "source": [
        "y = [int(string[9:]) for string in df.author.values] # remove \"__label__\" from string and convert to int\n",
        "\n",
        "xtrain, xvalid, ytrain, yvalid = train_test_split(train_df.text.values, y, \n",
        "                                                  random_state=42, \n",
        "                                                  test_size=0.1,)"
      ],
      "execution_count": 0,
      "outputs": []
    },
    {
      "metadata": {
        "id": "2Z33taNg9m0_",
        "colab_type": "code",
        "colab": {}
      },
      "cell_type": "code",
      "source": [
        ""
      ],
      "execution_count": 0,
      "outputs": []
    },
    {
      "metadata": {
        "id": "QW7qE2RTkhHr",
        "colab_type": "code",
        "colab": {}
      },
      "cell_type": "code",
      "source": [
        "tfv = TfidfVectorizer(min_df=3, analyzer='word',token_pattern=r'\\w{1,}',\n",
        "            ngram_range=(1, 3), use_idf=1,smooth_idf=1,sublinear_tf=1) \n",
        "\n",
        "tfv.fit(list(xtrain) + list(xvalid))\n",
        "xtrain_tfv =  tfv.transform(xtrain)\n",
        "xvalid_tfv = tfv.transform(xvalid)"
      ],
      "execution_count": 0,
      "outputs": []
    },
    {
      "metadata": {
        "id": "1sLHOYhgkhHy",
        "colab_type": "code",
        "outputId": "d730bebc-2a2c-4bc3-dad0-6fd9491bda3a",
        "colab": {
          "base_uri": "https://localhost:8080/",
          "height": 303
        }
      },
      "cell_type": "code",
      "source": [
        "regr_1 = LogisticRegression(C=1000, penalty = 'l2' )\n",
        "regr_1.fit(xtrain_tfv, ytrain)"
      ],
      "execution_count": 22,
      "outputs": [
        {
          "output_type": "stream",
          "text": [
            "/usr/local/lib/python3.6/dist-packages/sklearn/linear_model/logistic.py:433: FutureWarning: Default solver will be changed to 'lbfgs' in 0.22. Specify a solver to silence this warning.\n",
            "  FutureWarning)\n",
            "/usr/local/lib/python3.6/dist-packages/sklearn/linear_model/logistic.py:460: FutureWarning: Default multi_class will be changed to 'auto' in 0.22. Specify the multi_class option to silence this warning.\n",
            "  \"this warning.\", FutureWarning)\n"
          ],
          "name": "stderr"
        },
        {
          "output_type": "error",
          "ename": "NameError",
          "evalue": "ignored",
          "traceback": [
            "\u001b[0;31m---------------------------------------------------------------------------\u001b[0m",
            "\u001b[0;31mNameError\u001b[0m                                 Traceback (most recent call last)",
            "\u001b[0;32m<ipython-input-22-49d0d19677c2>\u001b[0m in \u001b[0;36m<module>\u001b[0;34m()\u001b[0m\n\u001b[1;32m      1\u001b[0m \u001b[0mregr_1\u001b[0m \u001b[0;34m=\u001b[0m \u001b[0mLogisticRegression\u001b[0m\u001b[0;34m(\u001b[0m\u001b[0mC\u001b[0m\u001b[0;34m=\u001b[0m\u001b[0;36m1000\u001b[0m\u001b[0;34m,\u001b[0m \u001b[0mpenalty\u001b[0m \u001b[0;34m=\u001b[0m \u001b[0;34m'l2'\u001b[0m \u001b[0;34m)\u001b[0m\u001b[0;34m\u001b[0m\u001b[0;34m\u001b[0m\u001b[0m\n\u001b[1;32m      2\u001b[0m \u001b[0mregr_1\u001b[0m\u001b[0;34m.\u001b[0m\u001b[0mfit\u001b[0m\u001b[0;34m(\u001b[0m\u001b[0mxtrain_tfv\u001b[0m\u001b[0;34m,\u001b[0m \u001b[0mytrain\u001b[0m\u001b[0;34m)\u001b[0m\u001b[0;34m\u001b[0m\u001b[0;34m\u001b[0m\u001b[0m\n\u001b[0;32m----> 3\u001b[0;31m \u001b[0mpredictions_1\u001b[0m \u001b[0;34m=\u001b[0m \u001b[0mregr\u001b[0m\u001b[0;34m.\u001b[0m\u001b[0mpredict\u001b[0m\u001b[0;34m(\u001b[0m\u001b[0mxvalid_tfv\u001b[0m\u001b[0;34m)\u001b[0m\u001b[0;34m\u001b[0m\u001b[0;34m\u001b[0m\u001b[0m\n\u001b[0m\u001b[1;32m      4\u001b[0m \u001b[0maccuracy_score\u001b[0m\u001b[0;34m(\u001b[0m\u001b[0mpredictions_1\u001b[0m\u001b[0;34m,\u001b[0m \u001b[0myvalid\u001b[0m\u001b[0;34m)\u001b[0m\u001b[0;34m\u001b[0m\u001b[0;34m\u001b[0m\u001b[0m\n",
            "\u001b[0;31mNameError\u001b[0m: name 'regr' is not defined"
          ]
        }
      ]
    },
    {
      "metadata": {
        "id": "WEi0GieqkhH4",
        "colab_type": "code",
        "colab": {
          "base_uri": "https://localhost:8080/",
          "height": 34
        },
        "outputId": "f6f86e6a-0c81-4117-999f-8b3881623bf4"
      },
      "cell_type": "code",
      "source": [
        "predictions_1 = regr_1.predict(xvalid_tfv)\n",
        "accuracy_score(predictions_1, yvalid)"
      ],
      "execution_count": 23,
      "outputs": [
        {
          "output_type": "execute_result",
          "data": {
            "text/plain": [
              "0.9054441260744985"
            ]
          },
          "metadata": {
            "tags": []
          },
          "execution_count": 23
        }
      ]
    },
    {
      "metadata": {
        "id": "48IXTK__0Q-y",
        "colab_type": "text"
      },
      "cell_type": "markdown",
      "source": [
        "Пробуем word2vec\n"
      ]
    },
    {
      "metadata": {
        "id": "xTsh4QJxkhH9",
        "colab_type": "code",
        "colab": {
          "base_uri": "https://localhost:8080/",
          "height": 71
        },
        "outputId": "f0df0752-e29a-4f54-8ebd-03e24f34739b"
      },
      "cell_type": "code",
      "source": [
        "from gensim.models import word2vec\n",
        "model = word2vec.Word2Vec(df['text'], size=300, window=10, workers=4)\n",
        "w2v = dict(zip(model.wv.index2word, model.wv.syn0))\n"
      ],
      "execution_count": 25,
      "outputs": [
        {
          "output_type": "stream",
          "text": [
            "/usr/local/lib/python3.6/dist-packages/ipykernel_launcher.py:3: DeprecationWarning: Call to deprecated `syn0` (Attribute will be removed in 4.0.0, use self.wv.vectors instead).\n",
            "  This is separate from the ipykernel package so we can avoid doing imports until\n"
          ],
          "name": "stderr"
        }
      ]
    },
    {
      "metadata": {
        "id": "CoK8OmZykhIA",
        "colab_type": "code",
        "colab": {}
      },
      "cell_type": "code",
      "source": [
        "from collections import defaultdict\n",
        "class mean_vectorizer(object):\n",
        "    def __init__(self, word2vec):\n",
        "        self.word2vec = word2vec\n",
        "        self.dim = len(next(iter(w2v.values())))\n",
        "\n",
        "    def fit(self, X):\n",
        "        return self \n",
        "\n",
        "    def transform(self, X):\n",
        "        return np.array([\n",
        "            np.mean([self.word2vec[w] for w in words if w in self.word2vec] \n",
        "                    or [np.zeros(self.dim)], axis=0)\n",
        "            for words in X\n",
        "        ])\n",
        "class tfidf_vectorizer(object):\n",
        "    def __init__(self, word2vec):\n",
        "        self.word2vec = word2vec\n",
        "        self.word2weight = None\n",
        "        self.dim = len(next(iter(w2v.values())))\n",
        "\n",
        "    def fit(self, X):\n",
        "        tfidf = TfidfVectorizer(analyzer=lambda x: x)\n",
        "        tfidf.fit(X)\n",
        "        max_idf = max(tfidf.idf_)\n",
        "        self.word2weight = defaultdict(\n",
        "            lambda: max_idf,\n",
        "            [(w, tfidf.idf_[i]) for w, i in tfidf.vocabulary_.items()])\n",
        "\n",
        "        return self\n",
        "\n",
        "    def transform(self, X):\n",
        "        return np.array([\n",
        "                np.mean([self.word2vec[w] * self.word2weight[w]\n",
        "                         for w in words if w in self.word2vec] or\n",
        "                        [np.zeros(self.dim)], axis=0)\n",
        "                for words in X\n",
        "            ])"
      ],
      "execution_count": 0,
      "outputs": []
    },
    {
      "metadata": {
        "id": "fFqKnrBo1S8y",
        "colab_type": "code",
        "colab": {}
      },
      "cell_type": "code",
      "source": [
        "xtrain_mean = mean_vectorizer(w2v).fit(xtrain).transform(xtrain)\n",
        "xvalid_mean = mean_vectorizer(w2v).fit(xvalid).transform(xvalid)\n"
      ],
      "execution_count": 0,
      "outputs": []
    },
    {
      "metadata": {
        "id": "lZJKhG52I4Ta",
        "colab_type": "code",
        "colab": {}
      },
      "cell_type": "code",
      "source": [
        "xtrain_w2v_tfv = tfidf_vectorizer(w2v).fit(xtrain).transform(xtrain)\n",
        "xvalid_w2v_tfv = tfidf_vectorizer(w2v).fit(xvalid).transform(xvalid)"
      ],
      "execution_count": 0,
      "outputs": []
    },
    {
      "metadata": {
        "id": "ekRMlw5OpYG1",
        "colab_type": "code",
        "outputId": "7f343ed7-8d1b-4a55-9204-074bced9f429",
        "colab": {
          "base_uri": "https://localhost:8080/",
          "height": 122
        }
      },
      "cell_type": "code",
      "source": [
        "regr_2 = LogisticRegression()\n",
        "regr_2.fit(xtrain_mean, ytrain)\n",
        "predictions_2 = regr_2.predict(xvalid_mean)\n",
        "accuracy_score(predictions_2, yvalid)"
      ],
      "execution_count": 28,
      "outputs": [
        {
          "output_type": "stream",
          "text": [
            "/usr/local/lib/python3.6/dist-packages/sklearn/linear_model/logistic.py:433: FutureWarning: Default solver will be changed to 'lbfgs' in 0.22. Specify a solver to silence this warning.\n",
            "  FutureWarning)\n",
            "/usr/local/lib/python3.6/dist-packages/sklearn/linear_model/logistic.py:460: FutureWarning: Default multi_class will be changed to 'auto' in 0.22. Specify the multi_class option to silence this warning.\n",
            "  \"this warning.\", FutureWarning)\n"
          ],
          "name": "stderr"
        },
        {
          "output_type": "execute_result",
          "data": {
            "text/plain": [
              "0.11174785100286533"
            ]
          },
          "metadata": {
            "tags": []
          },
          "execution_count": 28
        }
      ]
    },
    {
      "metadata": {
        "id": "GfZ4rnsPJQVp",
        "colab_type": "code",
        "colab": {
          "base_uri": "https://localhost:8080/",
          "height": 122
        },
        "outputId": "1f2cc6b9-1ca5-401b-f423-ccd83103f762"
      },
      "cell_type": "code",
      "source": [
        "regr_2.fit(xtrain_w2v_tfv, ytrain)\n",
        "prediction = regr_2.predict(xvalid_w2v_tfv)\n",
        "accuracy_score(prediction, yvalid)"
      ],
      "execution_count": 44,
      "outputs": [
        {
          "output_type": "stream",
          "text": [
            "/usr/local/lib/python3.6/dist-packages/sklearn/linear_model/logistic.py:433: FutureWarning: Default solver will be changed to 'lbfgs' in 0.22. Specify a solver to silence this warning.\n",
            "  FutureWarning)\n",
            "/usr/local/lib/python3.6/dist-packages/sklearn/linear_model/logistic.py:460: FutureWarning: Default multi_class will be changed to 'auto' in 0.22. Specify the multi_class option to silence this warning.\n",
            "  \"this warning.\", FutureWarning)\n"
          ],
          "name": "stderr"
        },
        {
          "output_type": "execute_result",
          "data": {
            "text/plain": [
              "0.11461318051575932"
            ]
          },
          "metadata": {
            "tags": []
          },
          "execution_count": 44
        }
      ]
    },
    {
      "metadata": {
        "id": "0s-53GSOpnJk",
        "colab_type": "code",
        "outputId": "73523b1b-05d9-428a-f451-00a7b98e4caa",
        "colab": {
          "base_uri": "https://localhost:8080/",
          "height": 198
        }
      },
      "cell_type": "code",
      "source": [
        "clf = xgb.XGBClassifier(nthread=10)\n",
        "clf.fit(xtrain_mean, ytrain)\n",
        "predictions_3 = clf.predict(xvalid_mean)\n",
        "\n"
      ],
      "execution_count": 29,
      "outputs": [
        {
          "output_type": "error",
          "ename": "NameError",
          "evalue": "ignored",
          "traceback": [
            "\u001b[0;31m---------------------------------------------------------------------------\u001b[0m",
            "\u001b[0;31mNameError\u001b[0m                                 Traceback (most recent call last)",
            "\u001b[0;32m<ipython-input-29-f27c0148a892>\u001b[0m in \u001b[0;36m<module>\u001b[0;34m()\u001b[0m\n\u001b[1;32m      3\u001b[0m \u001b[0mpredictions_3\u001b[0m \u001b[0;34m=\u001b[0m \u001b[0mclf\u001b[0m\u001b[0;34m.\u001b[0m\u001b[0mpredict\u001b[0m\u001b[0;34m(\u001b[0m\u001b[0mxvalid_mean\u001b[0m\u001b[0;34m)\u001b[0m\u001b[0;34m\u001b[0m\u001b[0;34m\u001b[0m\u001b[0m\n\u001b[1;32m      4\u001b[0m \u001b[0;34m\u001b[0m\u001b[0m\n\u001b[0;32m----> 5\u001b[0;31m \u001b[0mprint\u001b[0m \u001b[0;34m(\u001b[0m\u001b[0;34m\"accuracy: %0.3f \"\u001b[0m \u001b[0;34m%\u001b[0m \u001b[0maccuracy\u001b[0m\u001b[0;34m(\u001b[0m\u001b[0myvalid\u001b[0m\u001b[0;34m,\u001b[0m \u001b[0mpredictions_3\u001b[0m\u001b[0;34m)\u001b[0m\u001b[0;34m)\u001b[0m\u001b[0;34m\u001b[0m\u001b[0;34m\u001b[0m\u001b[0m\n\u001b[0m",
            "\u001b[0;31mNameError\u001b[0m: name 'accuracy' is not defined"
          ]
        }
      ]
    },
    {
      "metadata": {
        "id": "XLUiw5ZtqbuG",
        "colab_type": "code",
        "colab": {
          "base_uri": "https://localhost:8080/",
          "height": 34
        },
        "outputId": "de34c92e-5eb3-4929-f029-86662c4e9a7a"
      },
      "cell_type": "code",
      "source": [
        "print (\"accuracy: %0.3f \" % accuracy_score(yvalid, predictions_3))"
      ],
      "execution_count": 31,
      "outputs": [
        {
          "output_type": "stream",
          "text": [
            "accuracy: 0.246 \n"
          ],
          "name": "stdout"
        }
      ]
    },
    {
      "metadata": {
        "id": "-ByrO6-gCEr7",
        "colab_type": "code",
        "colab": {
          "base_uri": "https://localhost:8080/",
          "height": 54
        },
        "outputId": "2605bad6-8a61-4059-d0e8-4355d59e8d40"
      },
      "cell_type": "code",
      "source": [
        "train_df['text'][3]"
      ],
      "execution_count": 33,
      "outputs": [
        {
          "output_type": "execute_result",
          "data": {
            "text/plain": [
              "\"['свет', 'упасть', 'тишина', 'родиться', 'живой', 'том', 'москва', 'окончить', 'литературный', 'институт', 'метр', 'горький', 'печататься', 'поэт', 'критик', 'литературный', 'газета', 'независимый', 'газета', 'журнал', 'знамя', 'октябрь', 'юность', 'новый', 'юность', 'интерпоэзия', 'волга', 'зинзивер', 'обрести', 'свет', 'свет', 'упасть', 'тишина', 'двор', 'человек', 'заблудиться', 'путь', 'это', 'песня', 'сыграть', 'быть', 'хороший', 'сол', 'ной', 'дудочка', 'ледяной', 'труба', 'балалайка', 'струнный', 'тишина', 'леденцовый', 'дать', 'закурить', 'путь', 'тьма', 'два', 'беспалый', 'симфония', 'сигарета', 'нужно', 'вс', 'простить', 'никто', 'понять', 'разучиться', 'радоваться', 'ничто', 'обрести', 'свет', 'ii', 'свет', 'путеводный', 'горбун', 'деревянный', 'фонарь', 'свет', 'путеводный', 'зимний', 'дорога', 'падать', 'падать', 'боль', 'ослепительный', 'ларь', 'пусть', 'возродиться', 'немного', 'перека', 'тся', 'воля', 'тся', 'твой', 'электрод', 'вспомниться', 'снежный', 'морось', 'барак', 'кыштым', 'женщина', 'красный', 'смеяться', 'рота', 'соткать', 'медь', 'дым', 'дым', 'медь', 'дым', 'медь', 'начитаться', 'нервнобольной', 'поэт', 'речь', 'сол', 'ной', 'захотеться', 'перехворать', 'быть', 'здоровый', 'спасибо', 'это', 'быть', 'больной', 'пускай', 'настырно', 'болеть', 'голос', 'дрожать', 'молчать', 'интонация', 'тв', 'рда', 'слово', 'словарный', 'обида', 'мороз', 'бессловный', 'полный', 'дра', 'пристрел', 'затвор', 'затвор', 'корка', 'кромка', 'вёдро', 'никак', 'водица', 'песня', 'плохой', 'детство', 'детство', 'сам', 'пусть', 'родиться', 'утром', 'дышаться', 'больно', 'легко', 'хлеб', 'бекон', 'скрипочка', 'грустный', 'эй', 'читатель', 'грядущий', 'век', 'драгоценный', 'форма', 'отсутствие', 'дн', 'метр', 'рыбачить', 'апостол', 'пророк', 'ночью', 'хныкать', 'валгалла', 'пророчица', 'пригласить', 'ча', 'хотеться', 'хотеться', 'зазвать', 'свой', 'лехаим', 'тоска', 'убыть', 'кончиться', 'лишь', 'нахлынуть', 'упр', 'ком', 'твой', 'пш', 'нка', 'вечность', 'манка', 'непрочность', 'самый', 'большеротый', 'сума', 'гость', 'разномастный', 'морочиться', 'знать', 'последний', 'ум', 'снежно', 'сходиться', 'здорово', 'дрочиться', 'ангорский', 'ручной', 'свитер', 'вышиваться', 'форма', 'бессмыслица', 'свет', 'покатый', 'спешить', 'двор', 'видно', 'слава', 'посмертный', 'близиться', 'величать', 'печный', 'дыра', 'значит', 'бублик', 'звонкий', 'выпекаться', 'громкий', 'ария', 'звон', 'комар', 'напеваться', 'сбываться', 'хотеть', 'криэйтор', 'девочка', 'циркач', 'силач', 'исполин', 'супервайзер', 'личный', 'литр', 'тчик', 'тот', 'беречь', 'молить', 'лишь', 'вечер', 'увядший', 'темечко', 'чмокнуть', 'бог', 'впереть', 'далее', 'магдалина', 'лететь', 'сокол', 'ласточка', 'мудрый', 'голубь', 'дарлинг', 'вера', 'вка', 'горло', 'ленточка', 'новогодний', 'завязь', 'подарок', 'дурить', 'змей', 'последний', 'дервиш', 'проверять', 'корзина', 'верность', 'заметить', 'бережно', 'глубина', 'поравняться', 'поверхность', 'снова', 'белые', 'выводить', 'аспидный', 'это', 'постарелый', 'герой', 'отделиться', 'автор', 'разлететься', 'реб', 'нок', 'тело', 'сердце', 'ныть', 'место', 'предсердие', 'поменяться', 'партер', 'местами', 'двойник', 'апельсиновый', 'зеркало', 'обещать', 'отвязный', 'старость', 'переносный', 'смысл', 'твой', 'фольксваген', 'застыть', 'посреди', 'зима', 'наш', 'метр', 'белковый', 'ночь', 'распластать', 'ужас', 'утренний', 'радиопозывной', 'мочь', 'стать', 'стать', 'влетать', 'кювета', 'ослепительный', 'свет', 'надпись', 'лобовой', 'стекло', 'новогодний', 'понемногу', 'выпрямляться', 'переносный', 'речь', 'сигналить', 'спешить', 'работа', 'городской', 'дождь', 'чад', 'ежеутренний', 'суматоха', 'отвечать', 'беспечно', 'самый', 'де', 'ле', 'примета', 'пространство', 'плохой', 'вывих', 'это', 'нормальный', 'стать', 'прямая', 'простой', 'любовный', 'прикосновение', 'привкус', 'кровь', 'настолько', 'сродниться', 'вс', 'иначе', 'пойда', 'том', 'наверно', 'это', 'пятно', 'роршах', 'взглянуть', 'иной', 'угол', 'взмахнуть', 'рукав', 'живой', 'водица', 'отведать', 'метр', 'ртвой', 'кусочек', 'ремикс', 'зияние', 'кассетный', 'слом', 'взбодриться', 'резко', 'убыстриться', 'оборв', 'тся', 'ii', 'далёкий', 'кажется', 'это', 'следом', 'кажется', 'вовсе', 'существовать', 'вс', 'существовать', 'сухой', 'охра', 'рассыпать', 'земля', 'мета', 'шь', 'яростно', 'искра', 'зима', 'вс', 'равно', 'рисковать', 'отвечать', 'распоясать', 'речь', 'вс', 'равно', 'игра', 'стоить', 'свеча', 'вещь', 'питаться', 'чистый', 'звон', 'накрыть', 'плотный', 'дым', 'влиться', 'волнение', 'один', 'бессмысленный', 'пронзительный', 'сол', 'ным', 'земной', 'закон', 'рассудить', 'расстаться', 'серенький', 'мотив', 'уорхолловский', 'суп', 'альбомчик', 'босха', 'далёкий', 'пояс', 'тугой', 'затянуть', 'простой', 'жизнь', 'пунктирный', 'полоска', 'надрывный', 'какой', 'пустяк', 'человечек', 'спешить', 'гардероб', 'надвигать', 'лоб', 'котелок', 'размышлять', 'прескверный', 'ден', 'заслужить', 'поделом', 'дело', 'поспешить', 'побред', 'том', 'судьба', 'брезентовый', 'дождь', 'пойма', 'том', 'пойма', 'шь', 'тайный', 'мысль', 'прочта', 'шь', 'поговорить', 'синичий', 'галда', 'рыбий', 'плеск', 'волоокий', 'тишь', 'слышать', 'сердечко', 'крючок', 'тихо', 'снять', 'верна', 'том', 'номерок', 'тетрадочка', 'вновь', 'тчк', 'заученный', 'вчерашний', 'урок', 'лужа', 'учебный', 'ложь', 'ружьё', 'холостой', 'дробить', 'пойма', 'шь', 'простить', 'приучить', 'речь', 'неправильный', 'злой', 'глагол', 'плохой', 'новость', 'научить', 'обида', 'неправедный', 'вслед', 'глядеть', 'уходить', 'гость', 'накаляться', 'расшаркнуться', 'весело', 'отдавать', 'прихожая', 'ключ', 'средний', 'шея', 'повесить', 'пусть', 'хранить', 'неизменный', 'ночь', 'хандра', 'сезонный', 'месиво', 'сглаз', 'плата', 'сий', 'бог', 'счастие', 'помнится', 'грезить', 'ты', 'возвращать', 'крейсер', 'бумажный', 'нолик', 'расчертить', 'пол', 'морской', 'спасать', 'толика', 'это', 'тост', 'разграбить', 'дом', 'ключ', 'оглушительный', 'сговор', 'притворяться', 'гранит', 'другой', 'бегония', 'комнатный', 'гардина', 'фальшиво', 'стоить', 'затаить', 'усмешка', 'морщиться', 'посылать', 'сигнал', 'дно', 'мармазетка', 'тр', 'хлетний', 'спорщица', 'весь', 'тапочки', 'белых', 'видный', 'забрать', 'память', 'о', 'будущее', 'бурный', 'далее', 'готь', 'увязнуть', 'мгла', 'коготок', 'избушечный', 'курий', 'труба', 'винстоновский', 'дым', 'небо', 'высоко', 'лететь', 'круг', 'порог', 'дерево', 'один', 'место', 'повернуться', 'рубить', 'вертеться', 'компас', 'вс', 'один', 'негромкий', 'статус', 'кво', 'домофон', 'цифра', 'пентхаус', 'искать', 'никто', 'цвета', 'света', 'гранитный', 'хаос', 'подбер', 'зном', 'кроме', 'один', 'держаться', 'жизнь', 'кривая', 'спешить', 'вагончик', 'тронуться', 'пора', 'сорваться', 'бой', 'вывести', 'герой', 'укрыться', 'выщелкнуть', 'себя', 'отходить', 'гибель', 'бессонница', 'минный', 'полоса', 'береговой', 'санитар', 'лето', 'лефортово', 'трэш', 'угар', 'время', 'гляделка', 'прятки', 'вдоль', 'больница', 'ида', 'том', 'санитар', 'крыло', 'возле', 'лопатка', 'пахнуть', 'окно', 'жара', 'смола', 'детский', 'лапта', 'мятый', 'спать', 'говорить', 'ангелок', 'золотой', 'спать', 'придурковатый', 'вызволить', 'каждый', 'лоб', 'осенить', 'вынуть', 'больной', 'дурной', 'видеть', 'удрать', 'стеклянный', 'зенит', 'матушка', 'паранойя', 'страшно', 'страшно', 'я', 'следить', 'скоро', 'защ', 'лкнут', 'окова', 'это', 'слегка', 'лиловеть', 'слюда', 'крылышко', 'мотыльковый', 'память', 'игра', 'домино', 'лото', 'стук', 'сумасбродный', 'подъездный', 'нету', 'болезнь', 'золотой', 'нету', 'бесполезный', 'боль', 'затылок', 'это', 'пардон', 'просто', 'корона', 'мешать', 'вс', 'одобрять', 'прекрасный', 'партком', 'партия', 'вс', 'разрешать', 'завтра', 'нагрянуть', 'проверка', 'чертог', 'гость', 'штат', 'несметный', 'стать', 'великий', 'часок', 'самый', 'последний', 'смертный', 'скипетр', 'мантия', 'спрячь', 'кровать', 'петь', 'лишь', 'партийный', 'песнь', 'тихо', 'умереть', 'что', 'рисковать', 'воскреснуть', 'воскреснуть', 'закон', 'метр', 'ртвой', 'сцена', 'пойда', 'метр', 'друг', 'вдоль', 'улица', 'пустой', 'борис', 'рыжий', 'клементина', 'ширшов', 'пойда', 'метр', 'вдвый', 'метр', 'два', 'погребальный', 'урна', 'два', 'кукла', 'балаганный', 'мрак', 'воспитанный', 'умный', 'неподцензурный', 'плыть', 'том', 'луна', 'вдоль', 'уличный', 'собака', 'подт', 'ки', 'вс', 'размазать', 'подтаять', 'стен', 'вычерчивать', 'огненный', 'знак', 'говорить', 'цветаев', 'пастернак', 'пастернак', 'вовсе', 'цветаев', 'пастернак', 'разница', 'вс', 'ум', 'ца', 'гоп', 'ца', 'ца', 'плыть', 'том', 'луна', 'бросить', 'собака', 'лететь', 'астрал', 'стеклянный', 'слеза', 'смотреть', 'ладонь', 'брать', 'ладонь', 'твой', 'пульс', 'лишь', 'вытертый', 'черта', 'чад', 'век', 'два', 'больной', 'ирония', 'свекольный', 'хохотать', 'рот', 'закон', 'страшный', 'театр', 'метр', 'ртвой', 'сцена', 'наступать', 'утро', 'игрушка', 'метр', 'ртвать', 'изорвать', 'карта', 'размазать', 'накладный', 'пудра', 'ii', 'закон', 'дивный', 'театр', 'страшный', 'сцена', 'наступать', 'вечер', 'сме', 'тся', 'дико', 'безвозвратно', 'сме', 'тся', 'смех', 'е', 'калечить', 'обнимать', 'трясти', 'плечо', 'громкий', 'смех', 'е', 'нести', 'тся', 'метр', 'ртвой', 'сцена', 'зажигать', 'свеча', 'страшный', 'смех', 'какой', 'сме', 'тся', 'метр', 'ртвой', 'сцена', 'музыка', 'играть', 'вода', 'вода', 'акт', 'ры', 'упорный', 'бес', 'смех', 'разлагать', 'раздирать', 'скула', 'сводить', 'упадок', 'форма', 'понимать', 'полумрак', 'доиграть', 'доиграть', 'решать', 'убитый', 'нести', 'шпага', 'капельку', 'безумие', 'финал', 'память', 'борис', 'рыжий', 'ещ', 'подпасть', 'твой', 'интонация', 'мелос', 'дожливый', 'поезд', 'прыг', 'позади', 'город', 'банальность', 'кровь', 'нелюбовь', 'переправить', 'смелость', 'умереть', 'сумасшедший', 'вес', 'лым', 'хотеться', 'музыка', 'суицидальный', 'з', 'рнышко', 'тропочка', 'хрестоматийный', 'интонация', 'нервный', 'исповедальный', 'насыпь', 'девочка', 'полудебильный', 'всяк', 'попутчик', 'запечный', 'сверчок', 'темнеть', 'речь', 'топливо', 'дробный', 'стук', 'край', 'стакан', 'позади', 'ост', 'тся', 'страна', 'вс', 'далече', 'далече', 'вс', 'скучать', 'вс', 'кто', 'ревновать', 'ком', 'ком', 'знать', 'память', 'голодный', 'беда', 'ум', 'совершенно', 'свободный', 'шаг', 'налево', 'открыть', 'америка', 'шаг', 'направо', 'устроить', 'истерика', 'успокоиться', 'шептать', 'это', 'насыпать', 'открытый', 'рана', 'умирать', 'ров', 'губа', 'лежать', 'шевелить', 'повторять', 'слово', 'журчать', 'вод', 'кран', 'умереть', 'умереть', 'любить', 'тишина', 'умереть', 'умереть', 'любить', 'человек', 'умирать', 'ост', 'тся', 'жж', 'человек', 'умереть', 'решать', 'смерть', 'невозможный', 'знать', 'смерть', 'бывать', 'подзамочный', 'запись', 'тихонько', 'мигать', 'глаз', 'ягода', 'дик', 'сад', 'это', 'свыше', 'душить', 'ты', 'наблюдать', 'изменять', 'свой', 'облик', 'земной', 'подправлять', 'отдалять', 'ход', 'трещинка', 'вычертить', 'морщинка', 'незаметно', 'подменить', 'бревно', 'соринка', 'молча', 'выбрать', 'ракурс', 'иной', 'грудь', 'вырываться', 'сдавленный', 'коммент', 'смерть', 'ждать', 'жизнь', 'живой', 'человек', 'умирать', 'изменяться', 'жж', 'просто', 'отвечать', 'время', 'застывать', 'твердеть', 'рана', 'душа', 'сентябрь', 'боль', 'грустить', 'поживать', 'пусть', 'раста', 'том', 'пустоцвет', 'большой', 'большой', 'темнота', 'тишина', 'замок', 'читать', 'твой', 'постинг', 'последний', 'случайный', 'смысл', 'уноситься', 'небо', 'становиться', 'тайный', 'хлопотать', 'незнамо', 'ком']\""
            ]
          },
          "metadata": {
            "tags": []
          },
          "execution_count": 33
        }
      ]
    },
    {
      "metadata": {
        "id": "9JTxU0rCHMbc",
        "colab_type": "code",
        "colab": {
          "base_uri": "https://localhost:8080/",
          "height": 54
        },
        "outputId": "094a77c4-06d6-4ace-9804-6208937ee826"
      },
      "cell_type": "code",
      "source": [
        "df_1 = pd.read_csv('train.csv')\n",
        "print (df_1['text'][1])"
      ],
      "execution_count": 38,
      "outputs": [
        {
          "output_type": "stream",
          "text": [
            "Мелочи жизни   Проплаченная культура Конец минувшего года в российской культуре ознаменовался событием, на которое в горячке финансового кризиса не обратили должного внимания. Между тем оно очень даже заслуживает того, чтобы задуматься над ним всерьез. В конце прошлого года в России тихо и незаметно издох постмодернизм. “Зачем же так грубо?” — скажут. Однако, говоря “издох”, я вовсе не желаю еще раз оскорбить постмодернизм и постмодернистов, хотя никогда не скрывал и не скрываю враждебности своего отношения к этому явлению. Но в данном случае слово “издох” не содержит в себе никакого эмоционального наполнения. Это всего только цитата из шуточной эпитафии Владимира Соловьева: В лесу болото, в болоте мох. Родился кто-то, потом издох. Постмодернизм в России и был этим “кем-то”, чье рождение и смерть не имели решительно никакого смысла. Однако отсутствие смысла также в своем роде содержательно. Оно хотя бы обозначает такие места, где искателям смысла искать нечего. О русском постмодернизме как культурном явлении написаны сотни статей и статеечек. Есть и вполне солидная книга Марка Липовецкого — “Русский постмодернизм”, сочиненная в Штатах и оттого, вероятно, несущая на себе печать филологического благодушия. О русском постмодернизме как жизненном явлении не сказано почти ничего. Между тем не на голом же месте он возник! О русском постмодернизме как жизненном явлении лучше, откровеннее, бесстрашнее всех писал его наиболее преданный “агент” Вячеслав Курицын. Но Курицына никогда не читали “прямо”. За его словами искали подвоха, провокации. И напрасно: как летописец русского постмодернизма он чистейшей воды “реалист”. Осенью прошлого года в “Литературной газете” появилась статья Курицына о последней книге стихов Тимура Кибирова. Сам Кибиров не считает себя постмодернистом, но Курицын полагает его таковым. Прав он или не прав, в нашем случае не очень важно: не о Кибирове сейчас речь. Подметив (и справедливо!) в “веселеньких” стишках Кибирова строгие, грустные и даже страшные темы и интонации, Курицын неожиданно повернул разговор... в сторону денег. Суть его высказывания была такой. Мол, в жизни смысла нет — это-то ясно! Нет, не было и не будет. Но раньше по крайней мере были деньги. Теперь и денег не будет. На первый взгляд, слова крайне циничные. Напомню: они были сказаны на пике финансового “обвала” (простите за невольный оксюморон), когда в столичной культуре началась жестокая депрессия: закрывались либо съеживались, как шагреневая кожа, модные “глянцевые” издания, сворачивались многие книжные программы, вместе с ростом курса доллара втрое снижались гонорары. Владельцы кредитных и прочих пластиковых карточек шалели от невозможности вынуть свои доллары из банкоматов. Журналисты, привыкшие информировать нас о бедах “этой страны” за тысячу долларов в месяц как минимум, в одночасье оказались на улице, по которой метались в поисках работы и заработка злые и вовсе не благорасположенные к журналистам граждане. Литераторы, привыкшие отдыхать где-нибудь в Египте на гонорар от единственного рассказа, тиснутого в “Плейбое”, вдруг задумались о том, не пора ли перейти с импортных сигарет на отечественные. Когда выйдут в свет эти заметки, ситуация в стране может быть хуже, а может быть и лучше. Но в любом случае память о судороге тех дней останется. В частности, для маленькой, но очень влиятельной кучки людей, называемой столичной культурой, это будет память о днях, когда они впервые задумались о том, что “лафа” не бесконечна, что “проплата” закончилась, что “реализм”, который они третировали и презирали, искренне не любя его эстетически и столь же искренне не принимая философски, содержит еще один неприятный для них смысл, мудро выраженный Кутузовым в “Войне и мире”: “Вот и получили! Мордой и в г...!” О последней материальной субстанции наиболее “классические” постмодернисты вроде Курицына или Сорокина почему-то писали особенно часто и сладко. Курицын просто-таки носился с идеей, будто “г...” — это именно то, что “всех нас объединяет”, то есть нечто наиболее человечное и демократичное. Любопытно, однако, что за словесное “г...”, напечатанное где-нибудь в “ОМе” или “Птюче”, платили совсем не демократичные деньги, в то самое время как остальные человеки пребывали в “г...” вполне натуральном. “Постмодернизм — культура мягкая, добрая, гуттаперчевая”,— ворковал Курицын. И в самом деле — постмодернизм в России возник из той простой идеи, что “искусства нет, а художники остались, и им надо же как-то существовать”. Но почему-то это “как-то” выражалось в солидных и для подавляющей части населения России совершенно астрономических суммах конкретных денег, о которых Дмитрий Быков однажды пошутил: “Я знаю, откуда в этих ребятах столько мягкости и вальяжности. У них же только одна проблема: зарплата такая большая, что всю ее пропить они не в состоянии”. Почему-то существование художника “в отсутствие искусства” обернулось поразительным жизненным феноменом: чем больше “отсутствия”, тем круче его финансирование. Чем бессмысленнее и бесполезнее сотворенные художником вещи (будь то проза и стихи, картины и скульптуры, выставки и перфомансы), тем они и дороже. Есть замечательный анекдот о мужике, который на Птичьем рынке продавал своего пса за миллион долларов. “Сколько-сколько?” “Миллион”. “Да ты с ума сошел!” “А вот посмотрим!” В конце дня спрашивают: “Ну что, продал за миллион?” “Продать не продал, но зато обменял на двух котов — по полмиллиона каждый”. Истинный смысл анекдота обнаруживается в перспективе. В сущности, мужик действительно “продал” пса за миллион долларов (как и неизвестный — своих котов). Но только — в постмодернистском смысле. Дело оставалось за малым: перевести постмодернистский смысл в реалистический. Для этого необходим “третий”, который бы согласился реально проплатить виртуальную сделку. Поиски этого “третьего” и были настоящим искусством русского постмодерна, который навсегда останется в нашей истории феноменом проплаченной культуры. Существование этой культуры было возможно до того времени, покуда находился “третий”, соглашавшийся на проплату. Она закончилась тогда, когда “третий” от проплаты отказался. Пес лишился символической стоимости в миллион и вернулся к стоимости в символический трояк. Зачем нужно было “третьему” проплачивать заведомо бессмысленную сделку, объяснять скучно и тоскливо. Тем более что все и так всё понимают. Все читали и сказку о голом короле, и то чудесное место в “Приключениях Гекльберри Финна”, где фиктивные “король” и “герцог” устраивают для наивных поселян фиктивный спектакль “Королевский жираф”, который все хвалят для того, чтобы не выглядеть окончательными дураками (сами ведь согласились на проплату!). Но некоторые механизмы искусства постмодернизма заслуживают того, чтобы всмотреться внимательней... Наряжали в пестрые блузы, штаны и платье “Рабочего и колхозницу”. Объяснение вроде бы простое: пусть народ повеселится, а то жизнь такая серая... Но жизнь не серая, а страшно напряженная, с массой раздражающих и даже разрушающих психику моментов. Чего стоило одно чеченское “телешоу”, где натурально показывали (чуть ли не транслировали!), как солдаты ложатся под пулями. Серой жизнь могла казаться только людям, которым надоело отдыхать на Гавайях, надоело каждый вечер посещать казино и рестораны, надоело слышать ровное воркование моторов своих “мерседесов”. Впрочем, в реальности таких идеальных “новых русских” не было или были совсем уж единицы. “Демократическое” шоу с одеванием и раздеванием “Рабочего и колхозницы” было рассчитано на среднеобеспеченного и среднеблагополучного буржуазного скота, которого в России, слава Богу, пока еще не существует. Есть нервные и очень взвинченные горожане и смирившийся со своей судьбой деревенский народ. И для первого, и для второго шоу с “Рабочим и колхозницей” — нечто бесконечно чужое. Это шоу для кого-то “третьего”. Того самого “третьего”, кто проплатил это шоу. Вроде бы бессмыслица, замкнутый круг. Вовсе нет! Если посчитать, сколько людей реально заработали на этой бессмыслице, сколько художников “в отсутствие искусства” могли позволить себе жировать на как бы ничей счет на фоне обсыпающейся штукатурки и перегорающих лампочек отнюдь не отсутствующих районных и сельских библиотек, провинциальных театров и музеев, умирающих в нищете замечательных поэтов и проч. и проч. и проч... “Да это деньги-то в основном иностранные! — скажут.— И притом не такие большие, чтобы их хватило на всех”. Это верно. Но тогда и давайте признаем, что искусство русского постмодернизма заключалось в планомерном создании таких “культурных очагов”, где небольшие “на всех” деньги оказывались большими деньгами “не на всех”. Вот еще механизм. Приходит журналист наниматься на работу. “Сколько вы хотите?” — интересуется редактор. “Две тысячи долларов”,— без ложной скромности отвечает журналист. (Мне вспомнилось: заведующий отделением центральной клинической больницы г. Волгограда и до и после кризиса получает в месяц 800 рублей.) Но редактор не гонит нахала в шею. Расчет тут очень простой. Если какой-то рядовой обозреватель будет получать 2000 в валюте, то редактор с чистой совестью может брать в три, четыре раза больше. Этими деньгами всех, разумеется, не накормишь. Но их хватит на сотовый телефон, на содержание иномарки, на хороший отпуск... Культура русского постмодернизма была не цинической, но элементарно бессовестной культурой. “Мучительный”, по Иннокентию Анненскому, вопрос (“Наша совесть! Наша совесть!”) был этой культурой отправлен в отставку. И вот тогда эта культура действительно смогла стать “мягкой, доброй и гуттаперчевой”. Незлобивой. Чуждающейся всякой агрессии. Скоморошистой, как стихи Пригова. Чисто словесной и отстраненной от морали, как проза Сорокина. Мило артистичной и необязательной, как статьи Курицына. Нежной, как стихи А. Шаталова. Кстати, о “нежности”... Недавно в питерском издательстве Ивана Лимбаха вышел отдельной книгой дневник Михаила Кузмина 1934 года. Кузмин был очень нежный и соответственно очень гомосексуальный поэт (можно доказать и обратную связь). Однако в 30-е годы тот самый “реализм” нашей жизни, о котором я сказал в начале заметки в связи с Кутузовым, крепко зацепил и его. Болезнь, денежные трудности, странное положение “чужого” в своей стране — об этом читать больно, как бы ни относиться к иным, скажем так, неприятным моментам бурной молодости Кузмина. Но вот он в больнице и любуется голубями за окном... “Я приучил их хлебом. Голубей и воробьев. Они с утра уж долбили носами и пищали. Знали часы приема пищи. Сиделка говорила, что их не позволено кормить, т<ак> к<ак> они пачкают окна, а лучше отдавать куски какой-то женщине, которая специально их кормит на дворе”. Далее следует поразительная фраза: “Очень мне интересно, чтобы голуби были сыты! Мне интересно, чтоб они прилетали специально ко мне на окно. Эстетика, отнюдь не филантропия...” Не правда ли, слова эти блестяще проясняют ситуацию с культурой отечественного постмодернизма? Очень им интересно, чтобы мы были сыты! Но давайте хотя бы не лететь к ним на окно... ∙ \n"
          ],
          "name": "stdout"
        }
      ]
    },
    {
      "metadata": {
        "id": "91Pk_x0CHxBw",
        "colab_type": "code",
        "colab": {}
      },
      "cell_type": "code",
      "source": [
        ""
      ],
      "execution_count": 0,
      "outputs": []
    }
  ]
}